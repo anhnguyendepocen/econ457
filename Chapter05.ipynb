{
 "cells": [
  {
   "cell_type": "markdown",
   "metadata": {},
   "source": [
    "# Chapter 5\n",
    "# Numerical Integration and Differentiation"
   ]
  },
  {
   "cell_type": "markdown",
   "metadata": {},
   "source": [
    "In many computational economic applications, one must compute the definite integral\n",
    "of a real-valued function f with respect to a \"weighting\" function w over an interval\n",
    "$I$ of $R^n$:\n",
    "\n",
    "$$\\int_I f(x)w(x) dx$$\n",
    "\n",
    "\n",
    "The weighting function may be the identity, $w = 1$, in which case the integral represents\n",
    "the area under the function f. In other applications, w may be the probability\n",
    "density of a random variable $\\tilde X$\n",
    ", in which case the integral represents the expectation\n",
    "of $f( \\tilde X)$ when $I$ repesents the whole support of $\\tilde X$.\n",
    "\n",
    "\n",
    "\n"
   ]
  },
  {
   "cell_type": "code",
   "execution_count": null,
   "metadata": {
    "collapsed": true
   },
   "outputs": [],
   "source": []
  },
  {
   "cell_type": "markdown",
   "metadata": {},
   "source": [
    "In this chapter, we discuss three classes of numerical integration or numerical\n",
    "quadrature methods<sup>1</sup>. All methods approximate the integral with a weighted sum of\n",
    "function values:\n",
    "\n",
    "$$\\int_I f(x) w(x)dx \\approx \\sum_{i=0}^{n} w_i f(x_i)\\thinspace .$$\n",
    "\n",
    "<sup>1</sup>Quadrature is a historical mathematical term that means calculating area. "
   ]
  },
  {
   "cell_type": "markdown",
   "metadata": {},
   "source": [
    "The methods differ only in how the *quadrature weights* $wi$ and the *quadrature nodes*\n",
    "$xi$ are chosen."
   ]
  },
  {
   "cell_type": "markdown",
   "metadata": {},
   "source": [
    "**Newton-Cotes** methods approximate the integrand f between nodes\n",
    "using low order polynomials, and sum the integrals of the polynomials to estimate\n",
    "the integral of f. Newton-Cotes methods are easy to implement, but are not particularly\n",
    "eÆcient for computing the integral of a smooth function."
   ]
  },
  {
   "cell_type": "markdown",
   "metadata": {},
   "source": [
    "**Gaussian quadrature**\n",
    "methods choose the nodes and weights to satisfy moment matching conditions, and\n",
    "are more powerful than Newton-Cotes methods if the integrand is smooth."
   ]
  },
  {
   "cell_type": "markdown",
   "metadata": {},
   "source": [
    "**Monte Carlo and quasi-Monte Carlo integration** methods use \"random\" or \"equidistributed\"\n",
    "nodes, and are simple to implement and are especially useful if the integration domain\n",
    "is of high dimension or irregularly shaped.\n"
   ]
  },
  {
   "cell_type": "markdown",
   "metadata": {},
   "source": [
    "In this chapter, we also present an overview of how to compute *finite difference*\n",
    "approximations for the derivatives of a real-valued function. \n",
    "\n",
    "As we have seen in\n",
    "previous chapters, it is often desirable to compute derivatives numerically because\n",
    "analytic derivative expressions are difficult or impossible to derive, or expensive to\n",
    "evaluate. \n",
    "\n",
    "Finite difference methods can also be used to solve differential equations,\n",
    "which arise frequently in dynamic economic models, especially models formulated in\n",
    "continuous time. In this chapter, we introduce numerical methods for differential\n",
    "equations and illustrate their application to *initial value problems*."
   ]
  },
  {
   "cell_type": "code",
   "execution_count": 2,
   "metadata": {
    "collapsed": true
   },
   "outputs": [],
   "source": [
    "# https://github.com/QuantEcon/QuantEcon.py/blob/488b7b3b9117cfd9bfc71c187efc87c39fc5b459/quantecon/quad.py\n",
    "\"\"\"\n",
    "Filename: quad.py\n",
    "Authors: Chase Coleman, Spencer Lyon\n",
    "Date: 2014-07-01\n",
    "Defining various quadrature routines.\n",
    "Based on the quadrature routines found in the CompEcon toolbox by\n",
    "Miranda and Fackler.\n",
    "References\n",
    "----------\n",
    "Miranda, Mario J, and Paul L Fackler. Applied Computational Economics\n",
    "and Finance, MIT Press, 2002.\n",
    "\"\"\"\n",
    "\n",
    "from __future__ import division\n",
    "\n",
    "import math\n",
    "import numpy as np\n",
    "import scipy.linalg as la\n",
    "from scipy.special import gammaln\n",
    "import sympy as sym\n",
    "#from .ce_util import ckron, gridmake\n",
    "\n",
    "\n",
    "from functools import reduce"
   ]
  },
  {
   "cell_type": "code",
   "execution_count": 3,
   "metadata": {
    "collapsed": true
   },
   "outputs": [],
   "source": [
    "def ckron(*arrays):\n",
    "    \"\"\"\n",
    "    Repeatedly applies the np.kron function to an arbitrary number of\n",
    "    input arrays\n",
    "    Parameters\n",
    "    ----------\n",
    "    *arrays : tuple/list of np.ndarray\n",
    "    Returns\n",
    "    -------\n",
    "    out : np.ndarray\n",
    "        The result of repeated kronecker products\n",
    "    Notes\n",
    "    -----\n",
    "    Based of original function `ckron` in CompEcon toolbox by Miranda\n",
    "    and Fackler\n",
    "    References\n",
    "    ----------\n",
    "    Miranda, Mario J, and Paul L Fackler. Applied Computational\n",
    "    Economics and Finance, MIT Press, 2002.\n",
    "    \"\"\"\n",
    "    return reduce(np.kron, arrays)\n",
    "\n",
    "def gridmake(*arrays):\n",
    "    \"\"\"\n",
    "    TODO: finish this docstring\n",
    "    Notes\n",
    "    -----\n",
    "    Based of original function ``gridmake`` in CompEcon toolbox by\n",
    "    Miranda and Fackler\n",
    "    References\n",
    "    ----------\n",
    "    Miranda, Mario J, and Paul L Fackler. Applied Computational Economics\n",
    "    and Finance, MIT Press, 2002.\n",
    "    \"\"\"\n",
    "    if all([i.ndim == 1 for i in arrays]):\n",
    "        d = len(arrays)\n",
    "        if d == 2:\n",
    "            out = _gridmake2(*arrays)\n",
    "        else:\n",
    "            out = _gridmake2(arrays[0], arrays[1])\n",
    "            for arr in arrays[2:]:\n",
    "                out = _gridmake2(out, arr)\n",
    "\n",
    "        return out\n",
    "    else:\n",
    "        raise NotImplementedError(\"Come back here\")\n",
    "\n",
    "        \n",
    "def _gridmake2(x1, x2):\n",
    "    \"\"\"\n",
    "    TODO: finish this docstring\n",
    "    Notes\n",
    "    -----\n",
    "    Based of original function ``gridmake2`` in CompEcon toolbox by\n",
    "    Miranda and Fackler\n",
    "    References\n",
    "    ----------\n",
    "    Miranda, Mario J, and Paul L Fackler. Applied Computational Economics\n",
    "    and Finance, MIT Press, 2002.\n",
    "    \"\"\"\n",
    "    if x1.ndim == 1 and x2.ndim == 1:\n",
    "        return np.column_stack([np.tile(x1, x2.shape[0]),\n",
    "                               np.repeat(x2, x1.shape[0])])\n",
    "    elif x1.ndim > 1 and x2.ndim == 1:\n",
    "        first = np.tile(x1, (x2.shape[0], 1))\n",
    "        second = np.repeat(x2, x1.shape[0])\n",
    "        return np.column_stack([first, second])\n",
    "    else:\n",
    "        raise NotImplementedError(\"Come back here\")        \n",
    "\n",
    "def _qnwtrap1(n, a, b):\n",
    "    \"\"\"\n",
    "    Compute univariate trapezoid rule quadrature nodes and weights\n",
    "    Parameters\n",
    "    ----------\n",
    "    n : int\n",
    "        The number of nodes\n",
    "    a : int\n",
    "        The lower endpoint\n",
    "    b : int\n",
    "        The upper endpoint\n",
    "    Returns\n",
    "    -------\n",
    "    nodes : np.ndarray(dtype=float)\n",
    "        An n element array of nodes\n",
    "    nodes : np.ndarray(dtype=float)\n",
    "        An n element array of weights\n",
    "    Notes\n",
    "    -----\n",
    "    Based of original function ``qnwtrap1`` in CompEcon toolbox by\n",
    "    Miranda and Fackler\n",
    "    References\n",
    "    ----------\n",
    "    Miranda, Mario J, and Paul L Fackler. Applied Computational\n",
    "    Economics and Finance, MIT Press, 2002.\n",
    "    \"\"\"\n",
    "    if n < 1:\n",
    "        raise ValueError(\"n must be at least one\")\n",
    "\n",
    "    nodes = np.linspace(a, b, n)\n",
    "    dx = nodes[1] - nodes[0]\n",
    "\n",
    "    weights = dx * np.ones(n)\n",
    "    weights[0] *= 0.5\n",
    "    weights[-1] *= 0.5\n",
    "\n",
    "    return nodes, weights\n",
    "        \n",
    "\n",
    "def _qnwsimp1(n, a, b):\n",
    "    \"\"\"\n",
    "    Compute univariate Simpson quadrature nodes and weights\n",
    "    Parameters\n",
    "    ----------\n",
    "    n : int\n",
    "        The number of nodes\n",
    "    a : int\n",
    "        The lower endpoint\n",
    "    b : int\n",
    "        The upper endpoint\n",
    "    Returns\n",
    "    -------\n",
    "    nodes : np.ndarray(dtype=float)\n",
    "        An n element array of nodes\n",
    "    nodes : np.ndarray(dtype=float)\n",
    "        An n element array of weights\n",
    "    Notes\n",
    "    -----\n",
    "    Based of original function ``qnwsimp1`` in CompEcon toolbox by\n",
    "    Miranda and Fackler\n",
    "    References\n",
    "    ----------\n",
    "    Miranda, Mario J, and Paul L Fackler. Applied Computational\n",
    "    Economics and Finance, MIT Press, 2002.\n",
    "    \"\"\"\n",
    "    if n % 2 == 0:\n",
    "        print(\"WARNING qnwsimp: n must be an odd integer. Increasing by 1\")\n",
    "        n += 1\n",
    "\n",
    "    nodes = np.linspace(a, b, n)\n",
    "    dx = nodes[1] - nodes[0]\n",
    "    weights = np.tile([2.0, 4.0], (n + 1) // 2)\n",
    "    weights = weights[:n]\n",
    "    weights[0] = weights[-1] = 1\n",
    "    weights = (dx / 3.0) * weights\n",
    "\n",
    "    return nodes, weights    \n",
    "    \n",
    "        \n",
    "def _qnwlege1(n, a, b):\n",
    "    \"\"\"\n",
    "    Compute univariate Guass-Legendre quadrature nodes and weights\n",
    "    Parameters\n",
    "    ----------\n",
    "    n : int\n",
    "        The number of nodes\n",
    "    a : int\n",
    "        The lower endpoint\n",
    "    b : int\n",
    "        The upper endpoint\n",
    "    Returns\n",
    "    -------\n",
    "    nodes : np.ndarray(dtype=float)\n",
    "        An n element array of nodes\n",
    "    nodes : np.ndarray(dtype=float)\n",
    "        An n element array of weights\n",
    "    Notes\n",
    "    -----\n",
    "    Based of original function ``qnwlege1`` in CompEcon toolbox by\n",
    "    Miranda and Fackler\n",
    "    References\n",
    "    ----------\n",
    "    Miranda, Mario J, and Paul L Fackler. Applied Computational\n",
    "    Economics and Finance, MIT Press, 2002.\n",
    "    \"\"\"\n",
    "    # import ipdb; ipdb.set_trace()\n",
    "    maxit = 100\n",
    "    m = np.fix((n + 1) / 2.0).astype(int)\n",
    "    xm = 0.5 * (b + a)\n",
    "    xl = 0.5 * (b - a)\n",
    "    nodes = np.zeros(n)\n",
    "\n",
    "    weights = nodes.copy()\n",
    "    i = np.arange(m, dtype='int')\n",
    "\n",
    "    z = np.cos(np.pi * ((i + 1.0) - 0.25) / (n + 0.5))\n",
    "\n",
    "    for its in range(maxit):\n",
    "        p1 = 1.0\n",
    "        p2 = 0.0\n",
    "        for j in range(1, n+1):\n",
    "            p3 = p2\n",
    "            p2 = p1\n",
    "            p1 = ((2 * j - 1) * z * p2 - (j - 1) * p3) / j\n",
    "\n",
    "        pp = n * (z * p1 - p2)/(z * z - 1.0)\n",
    "        z1 = z.copy()\n",
    "        z = z1 - p1/pp\n",
    "        if all(np.abs(z - z1) < 1e-14):\n",
    "            break\n",
    "\n",
    "    if its == maxit - 1:\n",
    "        raise ValueError(\"Maximum iterations in _qnwlege1\")\n",
    "\n",
    "    nodes[i] = xm - xl * z\n",
    "    nodes[- i - 1] = xm + xl * z\n",
    "\n",
    "    weights[i] = 2 * xl / ((1 - z * z) * pp * pp)\n",
    "    weights[- i - 1] = weights[i]\n",
    "\n",
    "    return nodes, weights\n",
    "\n",
    "\n",
    "\n",
    "\n",
    "\n",
    "        \n",
    "def _make_multidim_func(one_d_func, n, *args):\n",
    "    \"\"\"\n",
    "    A helper function to cut down on code repetition. Almost all of the\n",
    "    code in qnwcheb, qnwlege, qnwsimp, qnwtrap is just dealing\n",
    "    various forms of input arguments and then shelling out to the\n",
    "    corresponding 1d version of the function.\n",
    "    This routine does all the argument checking and passes things\n",
    "    through the appropriate 1d function before using a tensor product\n",
    "    to combine weights and nodes.\n",
    "    Parameters\n",
    "    ----------\n",
    "    one_d_func : function\n",
    "        The 1d function to be called along each dimension\n",
    "    n : int or array_like(float)\n",
    "        A length-d iterable of the number of nodes in each dimension\n",
    "    args :\n",
    "        These are the arguments to various qnw____ functions.  For the\n",
    "        majority of the functions this is just a and b, but some differ.\n",
    "    Returns\n",
    "    -------\n",
    "    func : function\n",
    "        The multi-dimensional version of the parameter ``one_d_func``\n",
    "    \"\"\"\n",
    "    args = list(args)\n",
    "    n = np.asarray(n)\n",
    "    args = list(map(np.asarray, args))\n",
    "\n",
    "    if all([x.size == 1 for x in [n] + args]):\n",
    "        return one_d_func(n, *args)\n",
    "\n",
    "    d = n.size\n",
    "\n",
    "    for i in range(len(args)):\n",
    "        if args[i].size == 1:\n",
    "            args[i] = np.repeat(args[i], d)\n",
    "\n",
    "    nodes = []\n",
    "    weights = []\n",
    "\n",
    "    for i in range(d):\n",
    "        ai = [x[i] for x in args]\n",
    "        _1d = one_d_func(n[i], *ai)\n",
    "        nodes.append(_1d[0])\n",
    "        weights.append(_1d[1])\n",
    "\n",
    "    weights = ckron(*weights[::-1])  # reverse ordered tensor product\n",
    "\n",
    "    nodes = gridmake(*nodes)\n",
    "    return nodes, weights    "
   ]
  },
  {
   "cell_type": "markdown",
   "metadata": {},
   "source": [
    "## 5.1 Newton-Cotes Methods\n",
    "\n",
    "\n",
    "\n",
    "\n",
    "reference: \n",
    "\n",
    "\n",
    "https://nbviewer.jupyter.org/github/birocoles/Disciplina-metodos-computacionais/blob/master/Content/newton-cotes.ipynb"
   ]
  },
  {
   "cell_type": "markdown",
   "metadata": {},
   "source": [
    "Newton-Cotes quadrature methods are designed to approximate the integral of a realvalued\n",
    "function $f$ defined on a bounded interval $[a; b]$ of the real line. Newton-Cotes\n",
    "methods approximate the integrand $f$ between nodes using *low order polynomials*,\n",
    "and sum the integrals of the polynomials to form an estimate the integral of f. \n",
    "\n",
    "Two\n",
    "Newton-Cotes rules are widely used in practice: the **trapezoid rule and Simpson's\n",
    "rule**. Both rules are very easy to implement and are typically adequate for computing\n",
    "the area under a continuous function."
   ]
  },
  {
   "cell_type": "markdown",
   "metadata": {
    "collapsed": true
   },
   "source": [
    "### trapezoid rule\n",
    "\n",
    "![](http://mathworld.wolfram.com/images/eps-gif/TrapezoidalRule_1000.gif)\n",
    "\n",
    "http://mathworld.wolfram.com/Newton-CotesFormulas.html\n",
    "\n",
    "https://en.wikipedia.org/wiki/Newton%E2%80%93Cotes_formulas"
   ]
  },
  {
   "cell_type": "markdown",
   "metadata": {},
   "source": [
    "The trapezoid rule partitions the interval [a; b] into subintervals of equal length, approximates\n",
    "f over each subinterval using linear interpolants, and then sums the areas under the\n",
    "linear segments. The trapezoid rule draws its name from the fact that the area under f is\n",
    "approximated by a series of trapezoids."
   ]
  },
  {
   "cell_type": "markdown",
   "metadata": {
    "collapsed": true
   },
   "source": [
    "$$\\int \\limits_{x_i}^{x_{i+1}} f \\, (x) \\, d x \\approx \\frac{h}{2} \\left[ f(x_i) + f(x_{i+1})  \\right]\\: .$$"
   ]
  },
  {
   "cell_type": "markdown",
   "metadata": {},
   "source": [
    "where $x_i = a + (i-1)h$, with $h$ (called the step size) equal to   $ h=(b − a) / (n-1)$. The $w_i$ are called weights."
   ]
  },
  {
   "cell_type": "markdown",
   "metadata": {},
   "source": [
    "$$\\int _{a}^{b}f(x)\\,dx\\approx \\sum _{{i=1}}^{{n-1}}w_{i}\\,f(x_{i}).$$\n",
    "\n",
    "\n",
    "where $w_1 = w_n = h/2$ and $w_i = h$, otherwise.\n"
   ]
  },
  {
   "cell_type": "code",
   "execution_count": 4,
   "metadata": {
    "collapsed": false
   },
   "outputs": [
    {
     "data": {
      "text/latex": [
       "\\begin{align}\n",
       "\\int_a^b f(x)\\,dx &= \\int_{x_0}^{x_1} f(x) dx + \\int_{x_1}^{x_2} f(x) dx + \\ldots + \\int_{x_{n-1}}^{x_n} f(x) dx,     \\nonumber \\\\ \n",
       "                  &\\approx h \\frac{f(x_0) + f(x_1)}{2} +\n",
       "\t\t  h \\frac{f(x_1) + f(x_2)}{2} + \\ldots + \\nonumber \\\\ \n",
       "\t\t  &\\quad h \\frac{f(x_{n-1}) + f(x_n)}{2} \n",
       "\\end{align}"
      ],
      "text/plain": [
       "<IPython.core.display.Latex object>"
      ]
     },
     "metadata": {},
     "output_type": "display_data"
    }
   ],
   "source": [
    "%%latex\n",
    "\\begin{align}\n",
    "\\int_a^b f(x)\\,dx &= \\int_{x_0}^{x_1} f(x) dx + \\int_{x_1}^{x_2} f(x) dx + \\ldots + \\int_{x_{n-1}}^{x_n} f(x) dx,     \\nonumber \\\\ \n",
    "                  &\\approx h \\frac{f(x_0) + f(x_1)}{2} +\n",
    "\t\t  h \\frac{f(x_1) + f(x_2)}{2} + \\ldots + \\nonumber \\\\ \n",
    "\t\t  &\\quad h \\frac{f(x_{n-1}) + f(x_n)}{2} \n",
    "\\end{align}"
   ]
  },
  {
   "cell_type": "markdown",
   "metadata": {},
   "source": [
    "\n",
    "\n",
    "$$\\int_a^b f(x)\\,dx \\approx  \n",
    "\\frac{h}{2}\\left[f(x_0) + 2 f(x_1) + 2 f(x_2) + \\ldots + 2 f(x_{n-1}) + f(x_n)\\right]              \n",
    "$$\n",
    "\n",
    "\n",
    "\n",
    "\n",
    "$$\n",
    "\\int_a^b f(x)\\,dx \\approx h \\left[\\frac{1}{2}f(x_0) + \\sum_{i=1}^{n-1}f(x_i) + \\frac{1}{2}f(x_n) \\right] \\thinspace .\n",
    "$$"
   ]
  },
  {
   "cell_type": "markdown",
   "metadata": {},
   "source": [
    "For example, when $n = 2$\n",
    "\n",
    "\n",
    "$${\\frac  {b-a}{2}}(f_{0}+f_{1})$$"
   ]
  },
  {
   "cell_type": "code",
   "execution_count": null,
   "metadata": {
    "collapsed": true
   },
   "outputs": [],
   "source": [
    "def trapezoidal(f, a, b, n):\n",
    "    h = float(b-a)/n\n",
    "    result = 0.5*f(a) + 0.5*f(b)\n",
    "    for i in range(1, n):\n",
    "        result += f(a + i*h)\n",
    "    result *= h\n",
    "    return result"
   ]
  },
  {
   "cell_type": "code",
   "execution_count": null,
   "metadata": {
    "collapsed": true
   },
   "outputs": [],
   "source": [
    "def _qnwtrap1(n, a, b):\n",
    "    \"\"\"\n",
    "    Compute univariate trapezoid rule quadrature nodes and weights\n",
    "    Parameters\n",
    "    ----------\n",
    "    n : int\n",
    "        The number of nodes\n",
    "    a : int\n",
    "        The lower endpoint\n",
    "    b : int\n",
    "        The upper endpoint\n",
    "    Returns\n",
    "    -------\n",
    "    nodes : np.ndarray(dtype=float)\n",
    "        An n element array of nodes\n",
    "    nodes : np.ndarray(dtype=float)\n",
    "        An n element array of weights\n",
    "    Notes\n",
    "    -----\n",
    "    Based of original function ``qnwtrap1`` in CompEcon toolbox by\n",
    "    Miranda and Fackler\n",
    "    References\n",
    "    ----------\n",
    "    Miranda, Mario J, and Paul L Fackler. Applied Computational\n",
    "    Economics and Finance, MIT Press, 2002.\n",
    "    \"\"\"\n",
    "    if n < 1:\n",
    "        raise ValueError(\"n must be at least one\")\n",
    "\n",
    "    nodes = np.linspace(a, b, n)\n",
    "    dx = nodes[1] - nodes[0]\n",
    "\n",
    "    weights = dx * np.ones(n)\n",
    "    weights[0] *= 0.5\n",
    "    weights[-1] *= 0.5\n",
    "\n",
    "    return nodes, weights"
   ]
  },
  {
   "cell_type": "markdown",
   "metadata": {},
   "source": [
    "The trapezoid rule is simple and robust. It is said to be first order exact because, if\n",
    "not for rounding error, it will exactly compute the integral of any first order polynomial,\n",
    "that is, a line. In general, if the integrand f is smooth, the trapezoid rule will yield an\n",
    "approximation error that is $O(h^2)$, that is, the error shrinks quadratically with the width of\n",
    "the subintervals."
   ]
  },
  {
   "cell_type": "code",
   "execution_count": 4,
   "metadata": {
    "collapsed": true
   },
   "outputs": [],
   "source": [
    "def qnwtrap(n, a, b):\n",
    "    \"\"\"\n",
    "    Computes multivariate trapezoid rule quadrature nodes and weights.\n",
    "    Parameters\n",
    "    ----------\n",
    "    n : int or array_like(float)\n",
    "        A length-d iterable of the number of nodes in each dimension\n",
    "    a : scalar or array_like(float)\n",
    "        A length-d iterable of lower endpoints. If a scalar is given,\n",
    "        that constant is repeated d times, where d is the number of\n",
    "        dimensions\n",
    "    b : scalar or array_like(float)\n",
    "        A length-d iterable of upper endpoints. If a scalar is given,\n",
    "        that constant is repeated d times, where d is the number of\n",
    "        dimensions\n",
    "    Returns\n",
    "    -------\n",
    "    nodes : np.ndarray(dtype=float)\n",
    "        Quadrature nodes\n",
    "    weights : np.ndarray(dtype=float)\n",
    "        Weights for quadrature nodes\n",
    "    Notes\n",
    "    -----\n",
    "    Based of original function ``qnwtrap`` in CompEcon toolbox by\n",
    "    Miranda and Fackler\n",
    "    References\n",
    "    ----------\n",
    "    Miranda, Mario J, and Paul L Fackler. Applied Computational\n",
    "    Economics and Finance, MIT Press, 2002.\n",
    "    \"\"\"\n",
    "    return _make_multidim_func(_qnwtrap1, n, a, b)"
   ]
  },
  {
   "cell_type": "code",
   "execution_count": null,
   "metadata": {
    "collapsed": true
   },
   "outputs": [],
   "source": []
  },
  {
   "cell_type": "code",
   "execution_count": null,
   "metadata": {
    "collapsed": true
   },
   "outputs": [],
   "source": []
  },
  {
   "cell_type": "markdown",
   "metadata": {},
   "source": [
    "### Simpson's rule"
   ]
  },
  {
   "cell_type": "markdown",
   "metadata": {},
   "source": [
    "Simpson's rule is based on piece-wise quadratic, rather than piece-wise linear, approximations\n",
    "to the integrand $f$.\n",
    "\n",
    "\n",
    "\n",
    "![](https://upload.wikimedia.org/wikipedia/commons/thumb/c/ca/Simpsons_method_illustration.svg/440px-Simpsons_method_illustration.svg.png)\n",
    "\n",
    "`Simpson's rule can be derived by approximating the integrand f (x) (in blue) by the quadratic interpolant P(x) (in red).`\n",
    "\n",
    "\n",
    "https://en.wikipedia.org/wiki/Simpson%27s_rule\n",
    "\n",
    "\n"
   ]
  },
  {
   "cell_type": "markdown",
   "metadata": {},
   "source": [
    "The area under this quadratic function provides an estimate of the area under f over the\n",
    "subinterval:"
   ]
  },
  {
   "cell_type": "markdown",
   "metadata": {},
   "source": [
    "$$\\int \\limits_{x_{2j-1}}^{x_{2j+1}} f(x)\\, d x \\approx \\frac{h}{3} \\left[ \\, f(x_{2j-1}) + 4 \\, f(x_{2j}) + f(x_{2j+1}) \\, \\right]$$\n",
    "\n",
    "where $x_i = a + (i-1)h$, with $h$ (called the step size) equal to   $ h=(b − a) / (n-1)$ and n is odd. The $w_i$ are called weights.\n"
   ]
  },
  {
   "cell_type": "markdown",
   "metadata": {},
   "source": [
    "Summing up the areas under the quadratic approximants across subintervals yields Simpson's\n",
    "rule:"
   ]
  },
  {
   "cell_type": "markdown",
   "metadata": {},
   "source": [
    "$$\\int_a^b f(x)dx \\approx \\sum_{i=0}^{n-1} w_if(x_i)\\thinspace .$$\n",
    "\n",
    "where $w_1 = w_n = h/3$ and, otherwise, $w_i = 4h/3$ if i is even and $w_i = 2h/3$ if i is odd."
   ]
  },
  {
   "cell_type": "markdown",
   "metadata": {},
   "source": [
    "More formally, let $x_i = a + (i - 1)h$ for $i = 1; 2; ... ; n$, where\n",
    "$ h=(b − a) / (n-1)$ and $n$ is odd. The nodes $x_i$ divide the interval $[a; b]$ into an even number\n",
    "$n - 1$ of subintervals of equal length $h$."
   ]
  },
  {
   "cell_type": "markdown",
   "metadata": {
    "collapsed": true
   },
   "source": [
    "Simpson's rule is as simple as the trapezoid rule, and thus not much harder to program.\n",
    "Even though Simpson's rule is based on *locally quadratic approximation* of the integrand,\n",
    "it is *third order exact*. That is, it exactly computes the integral of any cubic polynomial.\n",
    "In general, if the integrand is smooth, Simpson's rule yields an approximation error that is\n",
    "$O(h^4)$, and thus falls at twice the geometric rate of the error associated with the trapezoid\n",
    "rule.\n",
    "\n",
    "\n",
    "*Simpson's rule is preferred to the trapezoid rule* when the integrand $f$ is smooth because\n",
    "it retains the algorithmic simplicity of the trapezoid rule while offering **twice the degree of\n",
    "approximation**. However, the trapezoid rule will often be more accurate than Simpson's rule\n",
    "if the integrand exhibits **discontinuities in its first derivative**, which can occur in economic\n",
    "applications exhibiting corner solutions. Newton-Cotes rules based on fourth and higher\n",
    "order piecewise polynomial approximations exist, but are more diÆcult to work with and\n",
    "thus are rarely used."
   ]
  },
  {
   "cell_type": "markdown",
   "metadata": {},
   "source": [
    "### Univariate Simpson's rule"
   ]
  },
  {
   "cell_type": "code",
   "execution_count": 5,
   "metadata": {
    "collapsed": true
   },
   "outputs": [],
   "source": [
    "def _qnwsimp1(n, a, b):\n",
    "    \"\"\"\n",
    "    Compute univariate Simpson quadrature nodes and weights\n",
    "    Parameters\n",
    "    ----------\n",
    "    n : int\n",
    "        The number of nodes\n",
    "    a : int\n",
    "        The lower endpoint\n",
    "    b : int\n",
    "        The upper endpoint\n",
    "    Returns\n",
    "    -------\n",
    "    nodes : np.ndarray(dtype=float)\n",
    "        An n element array of nodes\n",
    "    nodes : np.ndarray(dtype=float)\n",
    "        An n element array of weights\n",
    "    Notes\n",
    "    -----\n",
    "    Based of original function ``qnwsimp1`` in CompEcon toolbox by\n",
    "    Miranda and Fackler\n",
    "    References\n",
    "    ----------\n",
    "    Miranda, Mario J, and Paul L Fackler. Applied Computational\n",
    "    Economics and Finance, MIT Press, 2002.\n",
    "    \"\"\"\n",
    "    if n % 2 == 0:\n",
    "        print(\"WARNING qnwsimp: n must be an odd integer. Increasing by 1\")\n",
    "        n += 1\n",
    "\n",
    "    nodes = np.linspace(a, b, n)\n",
    "    dx = nodes[1] - nodes[0]\n",
    "    weights = np.tile([2.0, 4.0], (n + 1) // 2)\n",
    "    weights = weights[:n]\n",
    "    weights[0] = weights[-1] = 1\n",
    "    weights = (dx / 3.0) * weights\n",
    "\n",
    "    return nodes, weights    "
   ]
  },
  {
   "cell_type": "markdown",
   "metadata": {},
   "source": [
    "Through the use of tensor product principles, univariate Newton-Cotes quadrature schemes\n",
    "can be generalized for higher dimensional integration.\n",
    "\n",
    "\n",
    "This construction\n",
    "principle can be applied to an arbitrary dimension using repeated tensor product operations."
   ]
  },
  {
   "cell_type": "code",
   "execution_count": null,
   "metadata": {
    "collapsed": true
   },
   "outputs": [],
   "source": [
    "def qnwsimp(n, a, b):\n",
    "    \"\"\"\n",
    "    Computes multivariate Simpson quadrature nodes and weights.\n",
    "    Parameters\n",
    "    ----------\n",
    "    n : int or array_like(float)\n",
    "        A length-d iterable of the number of nodes in each dimension\n",
    "    a : scalar or array_like(float)\n",
    "        A length-d iterable of lower endpoints. If a scalar is given,\n",
    "        that constant is repeated d times, where d is the number of\n",
    "        dimensions\n",
    "    b : scalar or array_like(float)\n",
    "        A length-d iterable of upper endpoints. If a scalar is given,\n",
    "        that constant is repeated d times, where d is the number of\n",
    "        dimensions\n",
    "    Returns\n",
    "    -------\n",
    "    nodes : np.ndarray(dtype=float)\n",
    "        Quadrature nodes\n",
    "    weights : np.ndarray(dtype=float)\n",
    "        Weights for quadrature nodes\n",
    "    Notes\n",
    "    -----\n",
    "    Based of original function ``qnwsimp`` in CompEcon toolbox by\n",
    "    Miranda and Fackler\n",
    "    References\n",
    "    ----------\n",
    "    Miranda, Mario J, and Paul L Fackler. Applied Computational\n",
    "    Economics and Finance, MIT Press, 2002.\n",
    "    \"\"\"\n",
    "    return _make_multidim_func(_qnwsimp1, n, a, b)"
   ]
  },
  {
   "cell_type": "markdown",
   "metadata": {
    "collapsed": true
   },
   "source": [
    "In most computational economic applications it is not possible to determine a priori\n",
    "how many partition points are needed to compute an integral to a desired level of accuracy\n",
    "using a Newton-Cotes quadrature rule. One solution to this problem is to use an **adaptive\n",
    "quadrature strategy** whereby one increases the number of points at which the integrand is\n",
    "evaluated until the sequence of estimates of the integral converge. EÆcient adaptive Newton-\n",
    "Cotes quadrature schemes are especially easy to implement. One simple, but powerful,\n",
    "scheme calls for the number of intervals to be doubled with each iteration. Because the new\n",
    "partition points include the partition points used in the previous iteration, the computational\n",
    "effort required to form the new integral estimate is cut in half. More sophisticated adaptive\n",
    "Newton-Cotes quadrature techniques relax the requirement that the intervals be equally\n",
    "spaced and concentrate new evaluation points in those areas where the integrand appears to\n",
    "be most irregular."
   ]
  },
  {
   "cell_type": "code",
   "execution_count": null,
   "metadata": {
    "collapsed": true
   },
   "outputs": [],
   "source": []
  },
  {
   "cell_type": "code",
   "execution_count": null,
   "metadata": {
    "collapsed": true
   },
   "outputs": [],
   "source": []
  },
  {
   "cell_type": "code",
   "execution_count": null,
   "metadata": {
    "collapsed": true
   },
   "outputs": [],
   "source": []
  },
  {
   "cell_type": "code",
   "execution_count": null,
   "metadata": {
    "collapsed": true
   },
   "outputs": [],
   "source": []
  },
  {
   "cell_type": "code",
   "execution_count": null,
   "metadata": {
    "collapsed": true
   },
   "outputs": [],
   "source": []
  },
  {
   "cell_type": "code",
   "execution_count": null,
   "metadata": {
    "collapsed": true
   },
   "outputs": [],
   "source": []
  },
  {
   "cell_type": "code",
   "execution_count": null,
   "metadata": {
    "collapsed": true
   },
   "outputs": [],
   "source": []
  },
  {
   "cell_type": "code",
   "execution_count": null,
   "metadata": {
    "collapsed": true
   },
   "outputs": [],
   "source": []
  },
  {
   "cell_type": "markdown",
   "metadata": {
    "collapsed": true
   },
   "source": [
    "## 5.2 Gaussian Quadrature\n",
    "Gaussian quadrature rules are constructed with respect to specific weighting functions.\n",
    "Specifically, for a weighting function $w$ defined on an interval $I \\in R$ of the real\n",
    "line, and for a given order of approximation n, the quadrature nodes $x_1; x_2; ... ; x_n$\n",
    "and quadrature weights $w_1; w_2; ...; w_n$ are chosen so as to satisfy the $2n$ \"moment-matching\"\n",
    "conditions:\n",
    "\n",
    "\n",
    "reference \n",
    "\n",
    "http://compeconworkshop.org/PDF/Part04.pdf\n",
    "\n",
    "https://people.ucsc.edu/~ealdrich/Teaching/ComputationGroup/Slides/lec3.pdf\n",
    "\n",
    "http://www.econ.nyu.edu/user/violante/NYUTeaching/QM/Spring15/Lectures/Lecture6_Integration_Slides.pdf"
   ]
  },
  {
   "cell_type": "code",
   "execution_count": null,
   "metadata": {
    "collapsed": true
   },
   "outputs": [],
   "source": []
  },
  {
   "cell_type": "code",
   "execution_count": null,
   "metadata": {
    "collapsed": true
   },
   "outputs": [],
   "source": []
  },
  {
   "cell_type": "markdown",
   "metadata": {
    "collapsed": true
   },
   "source": [
    "\n",
    "![](https://upload.wikimedia.org/wikipedia/commons/thumb/9/93/Comparison_Gaussquad_trapezoidal.svg/880px-Comparison_Gaussquad_trapezoidal.svg.png)\n",
    "\n",
    "\n",
    "\n",
    "*Comparison between 2-point Gaussian and trapezoidal quadrature. The blue line is the polynomial ${\\displaystyle y(x)=7x^{3}-8x^{2}-3x+3}$ , whose integral in [−1, 1] is 2/3. The trapezoidal rule returns the integral of the orange dashed line, equal to ${\\displaystyle y(-1)+y(1)=-10} $. The 2-point Gaussian quadrature rule returns the integral of the black dashed curve, equal to ${\\displaystyle y(-{\\sqrt {\\scriptstyle 1/3}})+y({\\sqrt {\\scriptstyle 1/3}})=2/3}$. Such a result is exact, since the green region has the same area as the red regions.*\n",
    "\n",
    "reference\n",
    "\n",
    "https://en.wikipedia.org/wiki/Gaussian_quadrature\n",
    "\n",
    "http://mathworld.wolfram.com/GaussianQuadrature.html"
   ]
  },
  {
   "cell_type": "markdown",
   "metadata": {
    "collapsed": true
   },
   "source": [
    "In numerical analysis, a quadrature rule is an approximation of the definite integral of a function, usually stated as a weighted sum of function values at specified points within the domain of integration. (See numerical integration for more on quadrature rules.) An n-point Gaussian quadrature rule, named after Carl Friedrich Gauss, is a quadrature rule constructed to yield an exact result for polynomials of degree $2n − 1$ or less by a suitable choice of the points xi and weights wi for $i = 1, ..., n$. The domain of integration for such a rule is conventionally taken as $[−1, 1]$, so the rule is stated as\n",
    "$${\\displaystyle \\int _{-1}^{1}f(x)\\,dx=\\sum _{i=1}^{n}w_{i}f(x_{i}).} $$."
   ]
  },
  {
   "cell_type": "markdown",
   "metadata": {
    "collapsed": true
   },
   "source": [
    "\n",
    "if the integrated function can be written as ${\\displaystyle f(x)=\\omega (x)g(x)}$, where $g(x)$ is approximately polynomial and $ω(x)$ is known, then alternative weights ${\\displaystyle w_{i}'} $ and points ${\\displaystyle x_{i}'} $ that depend on the weighting function $ω(x)$ may give better results, where\n",
    "$${\\displaystyle \\int _{-1}^{1}f(x)\\,dx=\\int _{-1}^{1}\\omega (x)g(x)\\,dx\\approx \\sum _{i=1}^{n}w_{i}'g(x_{i}').} $$.\n",
    "\n",
    "\n",
    "\n",
    "Common weighting functions include ${\\displaystyle \\omega (x)=1/{\\sqrt {1-x^{2}}}} $ (Chebyshev–Gauss) and ${\\displaystyle \\omega (x)=e^{-x^{2}}} $ (Gauss–Hermite).\n",
    "\n",
    "\n"
   ]
  },
  {
   "cell_type": "code",
   "execution_count": null,
   "metadata": {
    "collapsed": true
   },
   "outputs": [],
   "source": [
    "#https://github.com/birocoles/Disciplina-metodos-computacionais/blob/master/Content/newton-cotes.ipynb\n",
    "\n",
    "\n",
    "\n",
    "\n",
    "# http://nbviewer.jupyter.org/github/sbustamante/ComputationalMethods/blob/master/material/numerical-calculus.ipynb#Numerical-Integration"
   ]
  },
  {
   "cell_type": "markdown",
   "metadata": {},
   "source": [
    "## 5.3 Monte Carlo Integration"
   ]
  },
  {
   "cell_type": "markdown",
   "metadata": {
    "collapsed": true
   },
   "source": [
    "In numerical integration, methods such as the trapezoidal rule use a deterministic approach. Monte Carlo integration, on the other hand, employs a non-deterministic approach: each realization provides a different outcome.\n",
    "\n",
    "\n",
    "![](https://upload.wikimedia.org/wikipedia/commons/thumb/2/20/MonteCarloIntegrationCircle.svg/440px-MonteCarloIntegrationCircle.svg.png)\n",
    "\n"
   ]
  },
  {
   "cell_type": "markdown",
   "metadata": {
    "collapsed": true
   },
   "source": [
    "\n",
    "Monte Carlo integration methods are motivated by the Strong Law of Large Numbers.\n",
    "One version of the Law states that if $x_1; x_2; ... ; x_n$ are independent realizations of a\n",
    "random variable $\\tilde X$\n",
    "and $f$ is a continuous function, then\n",
    "\n",
    "$$\\lim _{{n\\to \\infty }} \\frac{1}{n} \\sum_{i=1}^{n}  f(x_i) =  E f(\\tilde X)$$\n",
    "\n",
    "with probability one.\n",
    "\n",
    "The Monte Carlo integration scheme is thus a simple one. To compute an approximation to the expectation of $f(\\tilde X)$, one draws a random sample $x_1; x_2; ... ; x_n$ from the distribution of $\\tilde X$ and sets\n",
    "\n",
    "\n",
    "\n",
    "$$  E f(\\tilde X) \\approx \\frac{1}{n} \\sum_{i=1}^{n}  f(x_i) $$"
   ]
  },
  {
   "cell_type": "markdown",
   "metadata": {
    "collapsed": true
   },
   "source": [
    "Most numerical software packages provide a routine that generates pseudo-random variables\n",
    "that are uniformly distributed on the interval [0; 1]. A uniform random number generator\n",
    "is useful for generating random samples from other distributions. Suppose $\\tilde X$ has a cumulative distribution function  \n",
    "\n",
    "$$ F(x) = Pr( \\tilde X \\le x) $$\n",
    "\n",
    "\n",
    "whose inverse has a well-defined closed form. If $\\tilde U$ is uniformly distributed on $(0; 1)$, then\n",
    "$F^{-1}( \\tilde U)$ has the same distribution as $\\tilde X$."
   ]
  },
  {
   "cell_type": "markdown",
   "metadata": {},
   "source": [
    "Most numerical software packages also provide an intrinsic routine that generates pseudorandom\n",
    "standard normal variables. The routine may also be used to generate pseudo-random sequences of lognormal and multivariate normal variables.\n",
    "\n"
   ]
  },
  {
   "cell_type": "code",
   "execution_count": null,
   "metadata": {
    "collapsed": true
   },
   "outputs": [],
   "source": [
    "def qnwlogn(n, mu=None, sig2=None):\n",
    "    \"\"\"\n",
    "    Computes nodes and weights for multivariate lognormal distribution\n",
    "    Parameters\n",
    "    ----------\n",
    "    n : int or array_like(float)\n",
    "        A length-d iterable of the number of nodes in each dimension\n",
    "    mu : scalar or array_like(float), optional(default=zeros(d))\n",
    "        The means of each dimension of the random variable. If a scalar\n",
    "        is given, that constant is repeated d times, where d is the\n",
    "        number of dimensions\n",
    "    sig2 : array_like(float), optional(default=eye(d))\n",
    "        A d x d array representing the variance-covariance matrix of the\n",
    "        multivariate normal distribution.\n",
    "    Returns\n",
    "    -------\n",
    "    nodes : np.ndarray(dtype=float)\n",
    "        Quadrature nodes\n",
    "    weights : np.ndarray(dtype=float)\n",
    "        Weights for quadrature nodes\n",
    "    Notes\n",
    "    -----\n",
    "    Based of original function ``qnwlogn`` in CompEcon toolbox by\n",
    "    Miranda and Fackler\n",
    "    References\n",
    "    ----------\n",
    "    Miranda, Mario J, and Paul L Fackler. Applied Computational\n",
    "    Economics and Finance, MIT Press, 2002.\n",
    "    \"\"\"\n",
    "    nodes, weights = qnwnorm(n, mu, sig2)\n",
    "    return np.exp(nodes), weights"
   ]
  },
  {
   "cell_type": "markdown",
   "metadata": {},
   "source": [
    "A fundamental problem that arises with Monte Carlo integration is that it is almost impossible\n",
    "to generate a truly random sample of variates for any distribution. Most compilers\n",
    "and vector processing packages provide intrinsic routines for computing so-called random\n",
    "numbers. These routines, however, employ iteration rules that generate a purely deterministic,\n",
    "not random, sequence of numbers. In particular, if the generator is repeatedly initiated\n",
    "at the same point, it will return the same sequence of \"random\" variates each time. About\n",
    "all that can be said of numerical random number generators is that good ones will generate\n",
    "sequences that appear to be random, in that they pass certain statistical tests for randomness.\n",
    "For this reason, numerical random number generators are more accurately said to\n",
    "generate sequences of *\"pseudo-random\"* rather than random numbers."
   ]
  },
  {
   "cell_type": "markdown",
   "metadata": {},
   "source": [
    "Monte Carlo integration is easy to implement andmay be preferred over Gaussian quadrature\n",
    "if the a routine for computing the Gaussian mass points and probabilities is not readily\n",
    "available or if the integration is over many dimensions. Monte Carlo integration, however, is\n",
    "subject to a sampling error that cannot be bounded with certainty. The approximation can\n",
    "be made more accurate, in a dubious statistical sense, by increasing the size of the random\n",
    "sample, but this can be expensive if evaluating f or generating the pseudo-random variate is\n",
    "costly. Approximations generated by Monte Carlo integration will vary from one integration\n",
    "to the next, unless initiated at the same point, making the use of Monte Carlo integration\n",
    "in conjunction within other iterative schemes, such as dynamic programming or maximum\n",
    "likelihood estimation, problematic. So-called quasi Monte-Carlo methods can circumvent\n",
    "some of the problems associated with Monte-Carlo integration."
   ]
  },
  {
   "cell_type": "markdown",
   "metadata": {},
   "source": [
    "Quasi-Monte Carlo uses a low-discrepancy sequence such as the Halton sequence, the Sobol sequence, or the Faure sequence, whereas Monte Carlo uses a pseudorandom sequence. The advantage of using low-discrepancy sequences is a faster rate of convergence. Quasi-Monte Carlo has a rate of convergence close to $O(1/N)$, whereas the rate for the Monte Carlo method is $O(N^{−0.5})$.\n",
    "\n",
    "\n",
    "\n",
    "\n",
    "\n",
    "\n",
    "The Quasi-Monte Carlo method recently became popular in the area of mathematical finance or computational finance. In these areas, high-dimensional numerical integrals, where the integral should be evaluated within a threshold ε, occur frequently. Hence, the Monte Carlo method and the quasi-Monte Carlo method are beneficial in these situations.\n",
    "\n",
    "https://en.wikipedia.org/wiki/Quasi-Monte_Carlo_method"
   ]
  },
  {
   "cell_type": "markdown",
   "metadata": {},
   "source": [
    "## 5.4 Quasi-Monte Carlo Integration\n",
    "\n",
    "\n",
    "Although Monte-Carlo integration methods originated using insights from probability\n",
    "theory, recent extensions have severed that connection and, in the process, demonstrated\n",
    "ways in which the methods can be improved. Monte-Carlo methods rely on\n",
    "sequences $x_i$ with the property that\n",
    "\n",
    "\n",
    "$$\\lim _{{n\\to \\infty }} \\frac{b-a}{n} \\sum_{i=1}^{n}  f(x_i) =  \\int_{a}^{b} f(x) dx$$\n",
    "\n",
    "\n",
    "without regard to whether the sequences passes standard tests of randomness. Any sequence\n",
    "that satisfies this condition for arbitrary (Riemann) integrable functions can be used to approximate an integral on [a; b]. Although the Law of Large Numbers assures us that this is true when the $x_i$ are independent and identically distributed random variables, other\n",
    "sequences also satisfy this property. Indeed, it can be shown that sequences that are explicitly\n",
    "non-random, but instead attempt to fill in space in a regular manner can often provide more\n",
    "accurate approximations to definite integrals.\n"
   ]
  },
  {
   "cell_type": "code",
   "execution_count": null,
   "metadata": {
    "collapsed": true
   },
   "outputs": [],
   "source": []
  },
  {
   "cell_type": "code",
   "execution_count": null,
   "metadata": {
    "collapsed": true
   },
   "outputs": [],
   "source": []
  },
  {
   "cell_type": "code",
   "execution_count": null,
   "metadata": {
    "collapsed": true
   },
   "outputs": [],
   "source": []
  },
  {
   "cell_type": "code",
   "execution_count": null,
   "metadata": {
    "collapsed": true
   },
   "outputs": [],
   "source": []
  },
  {
   "cell_type": "code",
   "execution_count": null,
   "metadata": {
    "collapsed": true
   },
   "outputs": [],
   "source": []
  },
  {
   "cell_type": "code",
   "execution_count": null,
   "metadata": {
    "collapsed": true
   },
   "outputs": [],
   "source": []
  },
  {
   "cell_type": "code",
   "execution_count": null,
   "metadata": {
    "collapsed": true
   },
   "outputs": [],
   "source": [
    "def _qnwnorm1(n):\n",
    "    \"\"\"\n",
    "    Compute nodes and weights for quadrature of univariate standard\n",
    "    normal distribution\n",
    "    Parameters\n",
    "    ----------\n",
    "    n : int\n",
    "        The number of nodes\n",
    "    Returns\n",
    "    -------\n",
    "    nodes : np.ndarray(dtype=float)\n",
    "        An n element array of nodes\n",
    "    nodes : np.ndarray(dtype=float)\n",
    "        An n element array of weights\n",
    "    Notes\n",
    "    -----\n",
    "    Based of original function ``qnwnorm1`` in CompEcon toolbox by\n",
    "    Miranda and Fackler\n",
    "    References\n",
    "    ----------\n",
    "    Miranda, Mario J, and Paul L Fackler. Applied Computational\n",
    "    Economics and Finance, MIT Press, 2002.\n",
    "    \"\"\"\n",
    "    maxit = 100\n",
    "    pim4 = 1 / np.pi**(0.25)\n",
    "    m = np.fix((n + 1) / 2).astype(int)\n",
    "    nodes = np.zeros(n)\n",
    "    weights = np.zeros(n)\n",
    "\n",
    "    for i in range(m):\n",
    "        if i == 0:\n",
    "            z = np.sqrt(2*n+1) - 1.85575 * ((2 * n + 1)**(-1 / 6.1))\n",
    "        elif i == 1:\n",
    "            z = z - 1.14 * (n ** 0.426) / z\n",
    "        elif i == 2:\n",
    "            z = 1.86 * z + 0.86 * nodes[0]\n",
    "        elif i == 3:\n",
    "            z = 1.91 * z + 0.91 * nodes[1]\n",
    "        else:\n",
    "            z = 2 * z + nodes[i-2]\n",
    "\n",
    "        its = 0\n",
    "\n",
    "        while its < maxit:\n",
    "            its += 1\n",
    "            p1 = pim4\n",
    "            p2 = 0\n",
    "            for j in range(1, n+1):\n",
    "                p3 = p2\n",
    "                p2 = p1\n",
    "                p1 = z * math.sqrt(2.0/j) * p2 - math.sqrt((j - 1.0) / j) * p3\n",
    "\n",
    "            pp = math.sqrt(2 * n) * p2\n",
    "            z1 = z\n",
    "            z = z1 - p1/pp\n",
    "            if abs(z - z1) < 1e-14:\n",
    "                break\n",
    "\n",
    "        if its == maxit:\n",
    "            raise ValueError(\"Failed to converge in _qnwnorm1\")\n",
    "\n",
    "        nodes[n - 1 - i] = z\n",
    "        nodes[i] = -z\n",
    "        weights[i] = 2 / (pp*pp)\n",
    "        weights[n - 1 - i] = weights[i]\n",
    "\n",
    "    weights /= math.sqrt(math.pi)\n",
    "    nodes = nodes * math.sqrt(2.0)\n",
    "\n",
    "    return nodes, weights\n",
    "\n",
    "def _qnwbeta1(n, a=1.0, b=1.0):\n",
    "    \"\"\"\n",
    "    Computes nodes and weights for quadrature on the beta distribution.\n",
    "    Default is a=b=1 which is just a uniform distribution\n",
    "    NOTE: For now I am just following compecon; would be much better to\n",
    "    find a different way since I don't know what they are doing.\n",
    "    Parameters\n",
    "    ----------\n",
    "    n : scalar : int\n",
    "        The number of quadrature points\n",
    "    a : scalar : float, optional(default=1)\n",
    "        First Beta distribution parameter\n",
    "    b : scalar : float, optional(default=1)\n",
    "        Second Beta distribution parameter\n",
    "    Returns\n",
    "    -------\n",
    "    nodes : np.ndarray(dtype=float, ndim=1)\n",
    "        The quadrature points\n",
    "    weights : np.ndarray(dtype=float, ndim=1)\n",
    "        The quadrature weights that correspond to nodes\n",
    "    Notes\n",
    "    -----\n",
    "    Based of original function ``_qnwbeta1`` in CompEcon toolbox by\n",
    "    Miranda and Fackler\n",
    "    References\n",
    "    ----------\n",
    "    Miranda, Mario J, and Paul L Fackler. Applied Computational\n",
    "    Economics and Finance, MIT Press, 2002.\n",
    "    \"\"\"\n",
    "    # We subtract one and write a + 1 where we actually want a, and a\n",
    "    # where we want a - 1\n",
    "    a = a - 1\n",
    "    b = b - 1\n",
    "\n",
    "    maxiter = 25\n",
    "\n",
    "    # Allocate empty space\n",
    "    nodes = np.zeros(n)\n",
    "    weights = np.zeros(n)\n",
    "\n",
    "    # Find \"reasonable\" starting values.  Why these numbers?\n",
    "    for i in range(n):\n",
    "        if i == 0:\n",
    "            an = a/n\n",
    "            bn = b/n\n",
    "            r1 = (1+a) * (2.78/(4+n*n) + .768*an/n)\n",
    "            r2 = 1 + 1.48*an + .96*bn + .452*an*an + .83*an*bn\n",
    "            z = 1 - r1/r2\n",
    "        elif i == 1:\n",
    "            r1 = (4.1+a) / ((1+a)*(1+0.156*a))\n",
    "            r2 = 1 + 0.06 * (n-8) * (1+0.12*a)/n\n",
    "            r3 = 1 + 0.012*b * (1+0.25*abs(a))/n\n",
    "            z = z - (1-z) * r1 * r2 * r3\n",
    "        elif i == 2:\n",
    "            r1 = (1.67+0.28*a)/(1+0.37*a)\n",
    "            r2 = 1+0.22*(n-8)/n\n",
    "            r3 = 1+8*b/((6.28+b)*n*n)\n",
    "            z = z-(nodes[0]-z)*r1*r2*r3\n",
    "        elif i == n - 2:\n",
    "            r1 = (1+0.235*b)/(0.766+0.119*b)\n",
    "            r2 = 1/(1+0.639*(n-4)/(1+0.71*(n-4)))\n",
    "            r3 = 1/(1+20*a/((7.5+a)*n*n))\n",
    "            z = z+(z-nodes[-4])*r1*r2*r3\n",
    "        elif i == n - 1:\n",
    "            r1 = (1+0.37*b) / (1.67+0.28*b)\n",
    "            r2 = 1 / (1+0.22*(n-8)/n)\n",
    "            r3 = 1 / (1+8*a/((6.28+a)*n*n))\n",
    "            z = z+(z-nodes[-3])*r1*r2*r3\n",
    "        else:\n",
    "            z = 3*nodes[i-1] - 3*nodes[i-2] + nodes[i-3]\n",
    "\n",
    "        ab = a+b\n",
    "\n",
    "        # Root finding\n",
    "        its = 0\n",
    "        z1 = -100\n",
    "        while abs(z - z1) > 1e-10 and its < maxiter:\n",
    "            temp = 2 + ab\n",
    "            p1 = (a-b + temp*z)/2\n",
    "            p2 = 1\n",
    "\n",
    "            for j in range(2, n+1):\n",
    "                p3 = p2\n",
    "                p2 = p1\n",
    "                temp = 2*j + ab\n",
    "                aa = 2*j * (j+ab)*(temp-2)\n",
    "                bb = (temp-1) * (a*a - b*b + temp*(temp-2) * z)\n",
    "                c = 2 * (j - 1 + a) * (j - 1 + b) * temp\n",
    "                p1 = (bb*p2 - c*p3)/aa\n",
    "\n",
    "            pp = (n*(a-b-temp*z) * p1 + 2*(n+a)*(n+b)*p2)/(temp*(1 - z*z))\n",
    "            z1 = z\n",
    "            z = z1 - p1/pp\n",
    "\n",
    "            if abs(z - z1) < 1e-12:\n",
    "                break\n",
    "\n",
    "            its += 1\n",
    "\n",
    "        if its == maxiter:\n",
    "            raise ValueError(\"Max Iteration reached.  Failed to converge\")\n",
    "\n",
    "        nodes[i] = z\n",
    "        weights[i] = temp/(pp*p2)\n",
    "\n",
    "    nodes = (1-nodes)/2\n",
    "    weights = weights * math.exp(gammaln(a+n) + gammaln(b+n)\n",
    "                                 - gammaln(n+1) - gammaln(n+ab+1))\n",
    "    weights = weights / (2*math.exp(gammaln(a+1) + gammaln(b+1)\n",
    "                         - gammaln(ab+2)))\n",
    "\n",
    "    return nodes, weights\n",
    "\n",
    "\n",
    "def _qnwgamma1(n, a=None):\n",
    "    \"\"\"\n",
    "    Insert docs.  Default is a=0\n",
    "    NOTE: For now I am just following compecon; would be much better to\n",
    "    find a different way since I don't know what they are doing.\n",
    "    Parameters\n",
    "    ----------\n",
    "    n : scalar : int\n",
    "        The number of quadrature points\n",
    "    a : scalar : float\n",
    "        Gamma distribution parameter\n",
    "    Returns\n",
    "    -------\n",
    "    nodes : np.ndarray(dtype=float, ndim=1)\n",
    "        The quadrature points\n",
    "    weights : np.ndarray(dtype=float, ndim=1)\n",
    "        The quadrature weights that correspond to nodes\n",
    "    Notes\n",
    "    -----\n",
    "    Based of original function ``qnwgamma1`` in CompEcon toolbox by\n",
    "    Miranda and Fackler\n",
    "    References\n",
    "    ----------\n",
    "    Miranda, Mario J, and Paul L Fackler. Applied Computational\n",
    "    Economics and Finance, MIT Press, 2002.\n",
    "    \"\"\"\n",
    "    if a is None:\n",
    "        a = 0\n",
    "    else:\n",
    "        a -= 1\n",
    "\n",
    "    maxit = 10\n",
    "\n",
    "    factor = -math.exp(gammaln(a+n) - gammaln(n) - gammaln(a+1))\n",
    "    nodes = np.zeros(n)\n",
    "    weights = np.zeros(n)\n",
    "\n",
    "    # Create nodes\n",
    "    for i in range(n):\n",
    "        # Reasonable starting values\n",
    "        if i == 0:\n",
    "            z = (1+a) * (3+0.92*a) / (1 + 2.4*n + 1.8*a)\n",
    "        elif i == 1:\n",
    "            z = z + (15 + 6.25*a) / (1 + 0.9*a + 2.5*n)\n",
    "        else:\n",
    "            j = i-1\n",
    "            z = z + ((1 + 2.55*j) / (1.9*j) + 1.26*j*a / (1 + 3.5*j)) * \\\n",
    "                (z - nodes[j-1]) / (1 + 0.3*a)\n",
    "\n",
    "        # root finding iterations\n",
    "        its = 0\n",
    "        z1 = -10000\n",
    "        while abs(z - z1) > 1e-10 and its < maxit:\n",
    "            p1 = 1.0\n",
    "            p2 = 0.0\n",
    "            for j in range(1, n+1):\n",
    "                p3 = p2\n",
    "                p2 = p1\n",
    "                p1 = ((2*j - 1 + a - z)*p2 - (j - 1 + a)*p3) / j\n",
    "\n",
    "            pp = (n*p1 - (n+a)*p2) / z\n",
    "            z1 = z\n",
    "            z = z1 - p1/pp\n",
    "            its += 1\n",
    "\n",
    "        if its == maxit:\n",
    "            raise ValueError('Failure to converge')\n",
    "\n",
    "        nodes[i] = z\n",
    "        weights[i] = factor / (pp*n*p2)\n",
    "\n",
    "    return nodes, weights"
   ]
  },
  {
   "cell_type": "markdown",
   "metadata": {},
   "source": [
    "## 5.5 An Integration Toolbox\n",
    "The Matlab toolbox accompanying the textbook includes four functions for computing\n",
    "numerical integrals for general functions. Each takes three inputs, n, a, and b and\n",
    "generates appropriate nodes and weights. The functions `qnwtrap` and `qnwsimp` implement the Newton-Cotes trapezoid and Simpson's rule methods, `qnwlege` implements\n",
    "Gauss-Legendre quadrature and `qnwequi` generates nodes and weights associated with\n",
    "either equidistributed or pseudo-random sequences. The calling syntax is the same\n",
    "for each and is illustrated with below with `qnwtrap`.\n",
    "\n",
    "\n"
   ]
  },
  {
   "cell_type": "code",
   "execution_count": null,
   "metadata": {
    "collapsed": true
   },
   "outputs": [],
   "source": [
    "     \n",
    "\n",
    "\n",
    "\n",
    "\n",
    "\n",
    "\n",
    "\n",
    "def qnwlege(n, a, b):\n",
    "    \"\"\"\n",
    "    Computes multivariate Guass-Legendre  quadrature nodes and weights.\n",
    "    Parameters\n",
    "    ----------\n",
    "    n : int or array_like(float)\n",
    "        A length-d iterable of the number of nodes in each dimension\n",
    "    a : scalar or array_like(float)\n",
    "        A length-d iterable of lower endpoints. If a scalar is given,\n",
    "        that constant is repeated d times, where d is the number of\n",
    "        dimensions\n",
    "    b : scalar or array_like(float)\n",
    "        A length-d iterable of upper endpoints. If a scalar is given,\n",
    "        that constant is repeated d times, where d is the number of\n",
    "        dimensions\n",
    "    Returns\n",
    "    -------\n",
    "    nodes : np.ndarray(dtype=float)\n",
    "        Quadrature nodes\n",
    "    weights : np.ndarray(dtype=float)\n",
    "        Weights for quadrature nodes\n",
    "    Notes\n",
    "    -----\n",
    "    Based of original function ``qnwlege`` in CompEcon toolbox by\n",
    "    Miranda and Fackler\n",
    "    References\n",
    "    ----------\n",
    "    Miranda, Mario J, and Paul L Fackler. Applied Computational\n",
    "    Economics and Finance, MIT Press, 2002.\n",
    "    \"\"\"\n",
    "    return _make_multidim_func(_qnwlege1, n, a, b)\n",
    "\n",
    "\n",
    "\n",
    "def qnwequi(n, a, b, kind=\"N\", equidist_pp=None):\n",
    "    \"\"\"\n",
    "    Generates equidistributed sequences with property that averages\n",
    "    value of integrable function evaluated over the sequence converges\n",
    "    to the integral as n goes to infinity.\n",
    "    Parameters\n",
    "    ----------\n",
    "    n : int\n",
    "        Number of sequence points\n",
    "    a : scalar or array_like(float)\n",
    "        A length-d iterable of lower endpoints. If a scalar is given,\n",
    "        that constant is repeated d times, where d is the number of\n",
    "        dimensions\n",
    "    b : scalar or array_like(float)\n",
    "        A length-d iterable of upper endpoints. If a scalar is given,\n",
    "        that constant is repeated d times, where d is the number of\n",
    "        dimensions\n",
    "    kind : string, optional(default=\"N\")\n",
    "        One of the following:\n",
    "        - N - Neiderreiter (default)\n",
    "        - W - Weyl\n",
    "        - H - Haber\n",
    "        - R - pseudo Random\n",
    "    equidist_pp : array_like, optional(default=None)\n",
    "        TODO: I don't know what this does\n",
    "    Returns\n",
    "    -------\n",
    "    nodes : np.ndarray(dtype=float)\n",
    "        Quadrature nodes\n",
    "    weights : np.ndarray(dtype=float)\n",
    "        Weights for quadrature nodes\n",
    "    Notes\n",
    "    -----\n",
    "    Based of original function ``qnwequi`` in CompEcon toolbox by\n",
    "    Miranda and Fackler\n",
    "    References\n",
    "    ----------\n",
    "    Miranda, Mario J, and Paul L Fackler. Applied Computational\n",
    "    Economics and Finance, MIT Press, 2002.\n",
    "    \"\"\"\n",
    "    if equidist_pp is None:\n",
    "        equidist_pp = np.sqrt(np.array(list(sym.primerange(0, 7920))))\n",
    "\n",
    "    n, a, b = list(map(np.atleast_1d, list(map(np.asarray, [n, a, b]))))\n",
    "\n",
    "    d = max(list(map(len, [n, a, b])))\n",
    "    n = np.prod(n)\n",
    "\n",
    "    if a.size == 1:\n",
    "        a = np.repeat(a, d)\n",
    "\n",
    "    if b.size == 1:\n",
    "        b = np.repeat(b, d)\n",
    "\n",
    "    i = np.arange(1, n + 1)\n",
    "\n",
    "    if kind.upper() == \"N\":  # Neiderreiter\n",
    "        j = 2.0 ** (np.arange(1, d+1) / (d+1))\n",
    "        nodes = np.outer(i, j)\n",
    "        nodes = (nodes - np.fix(nodes)).squeeze()\n",
    "    elif kind.upper() == \"W\":  # Weyl\n",
    "        j = equidist_pp[:d]\n",
    "        nodes = np.outer(i, j)\n",
    "        nodes = (nodes - np.fix(nodes)).squeeze()\n",
    "    elif kind.upper() == \"H\":  # Haber\n",
    "        j = equidist_pp[:d]\n",
    "        nodes = np.outer(i * (i+1) / 2, j)\n",
    "        nodes = (nodes - np.fix(nodes)).squeeze()\n",
    "    elif kind.upper() == \"R\":  # pseudo-random\n",
    "        nodes = np.random.rand(n, d).squeeze()\n",
    "    else:\n",
    "        raise ValueError(\"Unknown sequence requested\")\n",
    "\n",
    "    # compute nodes and weights\n",
    "    r = b - a\n",
    "    nodes = a + nodes * r\n",
    "    weights = (np.prod(r) / n) * np.ones(n)\n",
    "\n",
    "    return nodes, weights\n",
    "\n",
    "def qnwnorm(n, mu=None, sig2=None, usesqrtm=False):\n",
    "    \"\"\"\n",
    "    Computes nodes and weights for multivariate normal distribution\n",
    "    Parameters\n",
    "    ----------\n",
    "    n : int or array_like(float)\n",
    "        A length-d iterable of the number of nodes in each dimension\n",
    "    mu : scalar or array_like(float), optional(default=zeros(d))\n",
    "        The means of each dimension of the random variable. If a scalar\n",
    "        is given, that constant is repeated d times, where d is the\n",
    "        number of dimensions\n",
    "    sig2 : array_like(float), optional(default=eye(d))\n",
    "        A d x d array representing the variance-covariance matrix of the\n",
    "        multivariate normal distribution.\n",
    "    Returns\n",
    "    -------\n",
    "    nodes : np.ndarray(dtype=float)\n",
    "        Quadrature nodes\n",
    "    weights : np.ndarray(dtype=float)\n",
    "        Weights for quadrature nodes\n",
    "    Notes\n",
    "    -----\n",
    "    Based of original function ``qnwnorm`` in CompEcon toolbox by\n",
    "    Miranda and Fackler\n",
    "    References\n",
    "    ----------\n",
    "    Miranda, Mario J, and Paul L Fackler. Applied Computational\n",
    "    Economics and Finance, MIT Press, 2002.\n",
    "    \"\"\"\n",
    "    n = np.asarray(n)\n",
    "    d = n.size\n",
    "\n",
    "    if mu is None:\n",
    "        mu = np.zeros(d)\n",
    "    else:\n",
    "        mu = np.asarray(mu)\n",
    "\n",
    "    if sig2 is None:\n",
    "        sig2 = np.eye(d)\n",
    "    else:\n",
    "        sig2 = np.asarray(sig2).reshape(d, d)\n",
    "\n",
    "    if all([x.size == 1 for x in [n, mu, sig2]]):\n",
    "        nodes, weights = _qnwnorm1(n)\n",
    "    else:\n",
    "        nodes = []\n",
    "        weights = []\n",
    "\n",
    "        for i in range(d):\n",
    "            _1d = _qnwnorm1(n[i])\n",
    "            nodes.append(_1d[0])\n",
    "            weights.append(_1d[1])\n",
    "\n",
    "        nodes = gridmake(*nodes)\n",
    "        weights = ckron(*weights[::-1])\n",
    "\n",
    "    if usesqrtm:\n",
    "        new_sig2 = la.sqrtm(sig2)\n",
    "    else:  # cholesky\n",
    "        new_sig2 = la.cholesky(sig2)\n",
    "\n",
    "    if d > 1:\n",
    "        nodes = nodes.dot(new_sig2) + mu  # Broadcast ok\n",
    "    else:  # nodes.dot(sig) will not be aligned in scalar case.\n",
    "        nodes = nodes * new_sig2 + mu\n",
    "\n",
    "    return nodes.squeeze(), weights\n",
    "\n",
    "\n",
    "def qnwlogn(n, mu=None, sig2=None):\n",
    "    \"\"\"\n",
    "    Computes nodes and weights for multivariate lognormal distribution\n",
    "    Parameters\n",
    "    ----------\n",
    "    n : int or array_like(float)\n",
    "        A length-d iterable of the number of nodes in each dimension\n",
    "    mu : scalar or array_like(float), optional(default=zeros(d))\n",
    "        The means of each dimension of the random variable. If a scalar\n",
    "        is given, that constant is repeated d times, where d is the\n",
    "        number of dimensions\n",
    "    sig2 : array_like(float), optional(default=eye(d))\n",
    "        A d x d array representing the variance-covariance matrix of the\n",
    "        multivariate normal distribution.\n",
    "    Returns\n",
    "    -------\n",
    "    nodes : np.ndarray(dtype=float)\n",
    "        Quadrature nodes\n",
    "    weights : np.ndarray(dtype=float)\n",
    "        Weights for quadrature nodes\n",
    "    Notes\n",
    "    -----\n",
    "    Based of original function ``qnwlogn`` in CompEcon toolbox by\n",
    "    Miranda and Fackler\n",
    "    References\n",
    "    ----------\n",
    "    Miranda, Mario J, and Paul L Fackler. Applied Computational\n",
    "    Economics and Finance, MIT Press, 2002.\n",
    "    \"\"\"\n",
    "    nodes, weights = qnwnorm(n, mu, sig2)\n",
    "    return np.exp(nodes), weights\n",
    "\n",
    "\n",
    "\n",
    "\n",
    "def qnwunif(n, a, b):\n",
    "    \"\"\"\n",
    "    Computes quadrature nodes and weights for multivariate uniform\n",
    "    distribution\n",
    "    Parameters\n",
    "    ----------\n",
    "    n : int or array_like(float)\n",
    "        A length-d iterable of the number of nodes in each dimension\n",
    "    a : scalar or array_like(float)\n",
    "        A length-d iterable of lower endpoints. If a scalar is given,\n",
    "        that constant is repeated d times, where d is the number of\n",
    "        dimensions\n",
    "    b : scalar or array_like(float)\n",
    "        A length-d iterable of upper endpoints. If a scalar is given,\n",
    "        that constant is repeated d times, where d is the number of\n",
    "        dimensions\n",
    "    Returns\n",
    "    -------\n",
    "    nodes : np.ndarray(dtype=float)\n",
    "        Quadrature nodes\n",
    "    weights : np.ndarray(dtype=float)\n",
    "        Weights for quadrature nodes\n",
    "    Notes\n",
    "    -----\n",
    "    Based of original function ``qnwunif`` in CompEcon toolbox by\n",
    "    Miranda and Fackler\n",
    "    References\n",
    "    ----------\n",
    "    Miranda, Mario J, and Paul L Fackler. Applied Computational\n",
    "    Economics and Finance, MIT Press, 2002.\n",
    "    \"\"\"\n",
    "    n, a, b = list(map(np.asarray, [n, a, b]))\n",
    "    nodes, weights = qnwlege(n, a, b)\n",
    "    weights = weights / np.prod(b - a)\n",
    "    return nodes, weights\n",
    "\n",
    "\n",
    "\n",
    "\n",
    "def quadrect(f, n, a, b, kind='lege', *args, **kwargs):\n",
    "    \"\"\"\n",
    "    Integrate the d-dimensional function f on a rectangle with lower and\n",
    "    upper bound for dimension i defined by a[i] and b[i], respectively;\n",
    "    using n[i] points.\n",
    "    Parameters\n",
    "    ----------\n",
    "    f : function\n",
    "        The function to integrate over. This should be a function\n",
    "        that accepts as its first argument a matrix representing points\n",
    "        along each dimension (each dimension is a column). Other\n",
    "        arguments that need to be passed to the function are caught by\n",
    "        `*args` and `**kwargs`\n",
    "    n : int or array_like(float)\n",
    "        A length-d iterable of the number of nodes in each dimension\n",
    "    a : scalar or array_like(float)\n",
    "        A length-d iterable of lower endpoints. If a scalar is given,\n",
    "        that constant is repeated d times, where d is the number of\n",
    "        dimensions\n",
    "    b : scalar or array_like(float)\n",
    "        A length-d iterable of upper endpoints. If a scalar is given,\n",
    "        that constant is repeated d times, where d is the number of\n",
    "        dimensions\n",
    "    kind : string, optional(default='lege')\n",
    "        Specifies which type of integration to perform. Valid\n",
    "        values are:\n",
    "        lege - Gauss-Legendre\n",
    "        cheb - Gauss-Chebyshev\n",
    "        trap - trapezoid rule\n",
    "        simp - Simpson rule\n",
    "        N    - Neiderreiter equidistributed sequence\n",
    "        W    - Weyl equidistributed sequence\n",
    "        H    - Haber  equidistributed sequence\n",
    "        R    - Monte Carlo\n",
    "    *args, **kwargs :\n",
    "        Other arguments passed to the function f\n",
    "    Returns\n",
    "    -------\n",
    "    out : scalar (float)\n",
    "        The value of the integral on the region [a, b]\n",
    "    Notes\n",
    "    -----\n",
    "    Based of original function ``quadrect`` in CompEcon toolbox by\n",
    "    Miranda and Fackler\n",
    "    References\n",
    "    ----------\n",
    "    Miranda, Mario J, and Paul L Fackler. Applied Computational\n",
    "    Economics and Finance, MIT Press, 2002.\n",
    "    \"\"\"\n",
    "    if kind.lower() == \"lege\":\n",
    "        nodes, weights = qnwlege(n, a, b)\n",
    "    elif kind.lower() == \"cheb\":\n",
    "        nodes, weights = qnwcheb(n, a, b)\n",
    "    elif kind.lower() == \"trap\":\n",
    "        nodes, weights = qnwtrap(n, a, b)\n",
    "    elif kind.lower() == \"simp\":\n",
    "        nodes, weights = qnwsimp(n, a, b)\n",
    "    else:\n",
    "        nodes, weights = qnwequi(n, a, b, kind)\n",
    "\n",
    "    out = weights.dot(f(nodes, *args, **kwargs))\n",
    "    return out\n",
    "\n",
    "\n",
    "def qnwbeta(n, a=1.0, b=1.0):\n",
    "    \"\"\"\n",
    "    Computes nodes and weights for beta distribution\n",
    "    Parameters\n",
    "    ----------\n",
    "    n : int or array_like(float)\n",
    "        A length-d iterable of the number of nodes in each dimension\n",
    "    a : scalar or array_like(float), optional(default=1.0)\n",
    "        A length-d\n",
    "    b : array_like(float), optional(default=1.0)\n",
    "        A d x d array representing the variance-covariance matrix of the\n",
    "        multivariate normal distribution.\n",
    "    Returns\n",
    "    -------\n",
    "    nodes : np.ndarray(dtype=float)\n",
    "        Quadrature nodes\n",
    "    weights : np.ndarray(dtype=float)\n",
    "        Weights for quadrature nodes\n",
    "    Notes\n",
    "    -----\n",
    "    Based of original function ``qnwbeta`` in CompEcon toolbox by\n",
    "    Miranda and Fackler\n",
    "    References\n",
    "    ----------\n",
    "    Miranda, Mario J, and Paul L Fackler. Applied Computational\n",
    "    Economics and Finance, MIT Press, 2002.\n",
    "    \"\"\"\n",
    "    return _make_multidim_func(_qnwbeta1, n, a, b)\n",
    "\n",
    "\n",
    "def qnwgamma(n, a=None):\n",
    "    \"\"\"\n",
    "    Computes nodes and weights for gamma distribution\n",
    "    Parameters\n",
    "    ----------\n",
    "    n : int or array_like(float)\n",
    "        A length-d iterable of the number of nodes in each dimension\n",
    "    mu : scalar or array_like(float), optional(default=zeros(d))\n",
    "        The means of each dimension of the random variable. If a scalar\n",
    "        is given, that constant is repeated d times, where d is the\n",
    "        number of dimensions\n",
    "    sig2 : array_like(float), optional(default=eye(d))\n",
    "        A d x d array representing the variance-covariance matrix of the\n",
    "        multivariate normal distribution.\n",
    "    Returns\n",
    "    -------\n",
    "    nodes : np.ndarray(dtype=float)\n",
    "        Quadrature nodes\n",
    "    weights : np.ndarray(dtype=float)\n",
    "        Weights for quadrature nodes\n",
    "    Notes\n",
    "    -----\n",
    "    Based of original function ``qnwgamma`` in CompEcon toolbox by\n",
    "    Miranda and Fackler\n",
    "    References\n",
    "    ----------\n",
    "    Miranda, Mario J, and Paul L Fackler. Applied Computational\n",
    "    Economics and Finance, MIT Press, 2002.\n",
    "    \"\"\"\n",
    "    return _make_multidim_func(_qnwgamma1, n, a)\n",
    "\n",
    "\n",
    "\n",
    "\n"
   ]
  },
  {
   "cell_type": "code",
   "execution_count": null,
   "metadata": {
    "collapsed": true
   },
   "outputs": [],
   "source": []
  },
  {
   "cell_type": "code",
   "execution_count": null,
   "metadata": {
    "collapsed": true
   },
   "outputs": [],
   "source": []
  },
  {
   "cell_type": "code",
   "execution_count": null,
   "metadata": {
    "collapsed": true
   },
   "outputs": [],
   "source": []
  },
  {
   "cell_type": "code",
   "execution_count": null,
   "metadata": {
    "collapsed": true
   },
   "outputs": [],
   "source": []
  },
  {
   "cell_type": "markdown",
   "metadata": {},
   "source": [
    "All of the quadrature functions will use tensor products to generate nodes and\n",
    "weights for integration over an arbitrary bounded interval [a; b] in higher dimensional\n",
    "spaces."
   ]
  },
  {
   "cell_type": "code",
   "execution_count": null,
   "metadata": {
    "collapsed": true
   },
   "outputs": [],
   "source": []
  },
  {
   "cell_type": "code",
   "execution_count": null,
   "metadata": {
    "collapsed": true
   },
   "outputs": [],
   "source": []
  },
  {
   "cell_type": "markdown",
   "metadata": {},
   "source": [
    "## 5.6 Numerical Differentiation\n",
    "\n",
    "![](https://upload.wikimedia.org/wikipedia/commons/thumb/1/18/Derivative.svg/460px-Derivative.svg.png)\n",
    "\n",
    "\n",
    "The most natural way to approximate a derivative is to replace it with a finite difference.\n",
    "The definition of a derivative,\n",
    "\n",
    "$$ f'(x)=\\lim _{{h\\to 0}}{f(x+h)-f(x) \\over h}. $$\n"
   ]
  },
  {
   "cell_type": "markdown",
   "metadata": {
    "collapsed": true
   },
   "source": [
    "\n",
    "\n",
    "Another two-point formula is to compute the slope of a nearby secant line through the points $(x-h,f(x-h))$ and $(x+h,f(x+h))$. The slope of this line is\n",
    "$${\\displaystyle {f(x+h)-f(x-h) \\over 2h}.} $$\n",
    "This formula is known as the symmetric difference quotient. In this case the first-order errors cancel, so the slope of these secant lines differ from the slope of the tangent line by an amount that is approximately proportional to ${\\displaystyle h^{2}}$. Hence for small values of h this is a more accurate approximation to the tangent line than the one-sided estimation. "
   ]
  },
  {
   "cell_type": "code",
   "execution_count": null,
   "metadata": {
    "collapsed": true
   },
   "outputs": [],
   "source": []
  },
  {
   "cell_type": "code",
   "execution_count": null,
   "metadata": {
    "collapsed": true
   },
   "outputs": [],
   "source": []
  },
  {
   "cell_type": "markdown",
   "metadata": {},
   "source": [
    "## 5.7 Initial Value Problems\n",
    "Differential equations pose the problem of inferring a function given information\n",
    "about its derivatives and additional \"boundary\" conditions. Differential equations\n",
    "may characterized as either ordinary differential equations (ODEs), whose solutions\n",
    "are functions of a single argument, and partial differential equations (PDEs), whose\n",
    "solutions are functions of multiple arguments. Both ODEs and PDEs may be solved\n",
    "numerically using finite difference methods."
   ]
  },
  {
   "cell_type": "markdown",
   "metadata": {},
   "source": [
    "From a numerical point of view the distinction between ODEs and PDEs is less\n",
    "important than the distinction between initial value problems (IVPs), which can be\n",
    "solved in a recursive or evolutionary fashion, and boundary value problems (BVPs),\n",
    "which require the entire solution to be computed simultaneously because the solution\n",
    "at one point (in time and/or space) depends on the solution everywhere else. For\n",
    "ODEs, the solution of an IVP is known at some point and the solution near this\n",
    "point can then be (approximately) determined. This, in turn, allows the solution at\n",
    "still other points to be approximated and so forth. BVPs, on the other hand, require\n",
    "simultaneous solution of the differential equation and the boundary conditions. We\n",
    "take up the solution of IVPs in this section, but defer discussion of BVPs until the\n",
    "next chapter (page 164)."
   ]
  },
  {
   "cell_type": "code",
   "execution_count": null,
   "metadata": {
    "collapsed": true
   },
   "outputs": [],
   "source": []
  },
  {
   "cell_type": "code",
   "execution_count": null,
   "metadata": {
    "collapsed": true
   },
   "outputs": [],
   "source": []
  },
  {
   "cell_type": "markdown",
   "metadata": {},
   "source": [
    "There are numerous other approaches and refinements to solving initial value problems.\n",
    "Brie\n",
    "y, these include so-called multi-step algorithms which utilize information\n",
    "from previous steps to determine the current step direction (Runge-Kutta are singlestep\n",
    "methods). Also, any method can adapt the step size to the current behavior\n",
    "of the system by monitoring the truncation error, reducing (increasing) the step size\n",
    "if this error is unacceptably large (small). Adaptive schemes are important if one\n",
    "requires a given level of accuracy."
   ]
  },
  {
   "cell_type": "code",
   "execution_count": null,
   "metadata": {
    "collapsed": true
   },
   "outputs": [],
   "source": []
  },
  {
   "cell_type": "markdown",
   "metadata": {},
   "source": [
    "### Example: Commercial Fishery"
   ]
  },
  {
   "cell_type": "code",
   "execution_count": null,
   "metadata": {
    "collapsed": true
   },
   "outputs": [],
   "source": []
  },
  {
   "cell_type": "code",
   "execution_count": null,
   "metadata": {
    "collapsed": true
   },
   "outputs": [],
   "source": []
  },
  {
   "cell_type": "code",
   "execution_count": null,
   "metadata": {
    "collapsed": true
   },
   "outputs": [],
   "source": []
  },
  {
   "cell_type": "code",
   "execution_count": null,
   "metadata": {
    "collapsed": true
   },
   "outputs": [],
   "source": []
  }
 ],
 "metadata": {
  "kernelspec": {
   "display_name": "Python 3",
   "language": "python",
   "name": "python3"
  },
  "language_info": {
   "codemirror_mode": {
    "name": "ipython",
    "version": 3
   },
   "file_extension": ".py",
   "mimetype": "text/x-python",
   "name": "python",
   "nbconvert_exporter": "python",
   "pygments_lexer": "ipython3",
   "version": "3.5.2"
  }
 },
 "nbformat": 4,
 "nbformat_minor": 1
}
