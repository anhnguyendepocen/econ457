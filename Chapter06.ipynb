{
 "cells": [
  {
   "cell_type": "markdown",
   "metadata": {},
   "source": [
    "# Chapter 6\n",
    "# Function Approximation"
   ]
  },
  {
   "cell_type": "code",
   "execution_count": 3,
   "metadata": {
    "collapsed": true
   },
   "outputs": [],
   "source": [
    "from matplotlib.pyplot import *\n",
    "%matplotlib notebook\n",
    "import matplotlib as mpl\n",
    "#mpl.rcParams['savefig.dpi'] = 80\n",
    "mpl.rcParams['figure.dpi'] = 80\n",
    "# from IPython.display import set_matplotlib_formats\n",
    "# set_matplotlib_formats('png', 'pdf')\n",
    "%config InlineBackend.figure_format = 'retina'\n",
    "#https://www.dataquest.io/blog/jupyter-notebook-tips-tricks-shortcuts/"
   ]
  },
  {
   "cell_type": "code",
   "execution_count": null,
   "metadata": {
    "collapsed": false
   },
   "outputs": [],
   "source": [
    "\n"
   ]
  },
  {
   "cell_type": "markdown",
   "metadata": {},
   "source": [
    "In many computational economic applications, one must approximate an analytically\n",
    "intractable real-valued function $f$ with a computationally tractable function $\\hat f$."
   ]
  },
  {
   "cell_type": "markdown",
   "metadata": {},
   "source": [
    "- In some applications, $f$ in principle can be evaluated at any point of its domain, but we wish to replace it with an approximation  $\\hat f$ that is easier to work with numerically\n",
    "\n",
    "- In other applications, $f$ is defined implicitly via a functional equation, but the equation lacks closed-form solution and we wish to compute an approximate solution $\\hat f$\n",
    "\n"
   ]
  },
  {
   "cell_type": "markdown",
   "metadata": {},
   "source": [
    "Two types of function approximation problems arise often in computational economic\n",
    "applications. \n",
    "\n",
    "- In the interpolation problem, one knows the value of a function\n",
    "$f$ at specified points in its domain and must choose an approximant $\\hat f$ from a family\n",
    "of \"nice\", tractable functions that matches the original function at the known evaluation\n",
    "points. The interpolation problem can be *generalized* to include the value of\n",
    "the function's first or higher derivatives at specified points."
   ]
  },
  {
   "cell_type": "markdown",
   "metadata": {
    "collapsed": true
   },
   "source": [
    "1. We will first look into interpolation, a general strategy for forming a tractable approximation to a function that can be evaluated at any point of its domain\n",
    "\n",
    "\n",
    "2. Then we will consider methods for solving functional equations that are based on interpolation principles"
   ]
  },
  {
   "cell_type": "code",
   "execution_count": null,
   "metadata": {
    "collapsed": true
   },
   "outputs": [],
   "source": []
  },
  {
   "cell_type": "markdown",
   "metadata": {},
   "source": [
    "In this chapter we discuss methods for approximating functions and focus on\n",
    "the two most generally practical techniques: **Chebychev polynomial and polynomial\n",
    "spline approximation**. \n",
    "\n",
    "\n",
    "In addition we discuss the use of **piecewise linear functions\n",
    "with finite difierence approximations for derivatives**. \n",
    "\n",
    "\n",
    "Univariate function interpolation\n",
    "methods are developed first and then are generalized to multivariate function\n",
    "interpolation methods. \n",
    "\n",
    "In the final section, we introduce the **collocation method**, a\n",
    "natural generalization of interpolation methods that may be used to solve a variety\n",
    "of functional equations. \n",
    "\n",
    "Collocation will be used extensively in Chapters 9 and 11 for\n",
    "solving dynamic economic models."
   ]
  },
  {
   "cell_type": "code",
   "execution_count": null,
   "metadata": {
    "collapsed": true
   },
   "outputs": [],
   "source": []
  },
  {
   "cell_type": "code",
   "execution_count": null,
   "metadata": {
    "collapsed": true
   },
   "outputs": [],
   "source": []
  },
  {
   "cell_type": "markdown",
   "metadata": {},
   "source": [
    "## 6.1 Interpolation Principles\n",
    "Interpolation involves the use of an approximating function, $\\hat f$, that is easy to evaluate\n",
    "in place of the function of interest, $f$. The first step in designing an interpolation\n",
    "scheme is choose a family of approximating functions.\n",
    "\n",
    "We will confine ourselves to\n",
    "families of functions that can be written as a *linear combination* of a set of n linearly\n",
    "independent *basis functions* $\\phi_1; \\phi_2; ... ; \\phi_n$:\n",
    "\n",
    "\n",
    "$$f(x) \\approx \\hat f(x)  \\equiv \\sum_{j=1}^n c_j{\\phi}_j(x),$$\n",
    "\n",
    "The basis coefficients $c_1, c_2,...,c_n$ can be fixed by requiring  $\\hat f$ to interpolate, that is, agree with $f$, at interpolation nodes\n",
    "$x_1,x_2,...x_n$ of our choosing.\n",
    "\n"
   ]
  },
  {
   "cell_type": "markdown",
   "metadata": {
    "collapsed": true
   },
   "source": [
    "For a given set of basis functions and nodes, computing the basis coefficients reduces to solving a **linear interpolation equation**\n",
    "\n",
    "$$ \\sum_{j=1}^n c_j{\\phi}_j(x_i) = f(x_i),\\, i = 1,2,..,n$$\n",
    "\n",
    "\n",
    "The interpolation equation can also be written in the matrix form\n",
    "\n",
    "$$ \\Phi c = y $$\n",
    "\n",
    "where\n",
    "\n",
    "$$ \\Phi_{ij} = \\phi_j(x_i) \\,\\, \\text{and} \\,\\, y_i = f(x_i)  $$\n",
    "\n",
    "for $i = 1,2,..,n$  and $j = 1,2,..,n$ , and $c$ is the $n \\times 1$  vector of basis coefficients to be determined"
   ]
  },
  {
   "cell_type": "markdown",
   "metadata": {},
   "source": [
    "- Interpolation schemes differ only in how the basis functions $\\phi_j$ and interpolation nodes $x_i$ are chosen\n",
    "\n",
    "\n",
    "- In theory, an interpolation scheme is well-defined if the basis functions and interpolation nodes are chosen so that the **interpolation matrix** $\\Phi$ is nonsingular\n",
    "\n",
    "- In computational practice, however, the interpolation matrix must meet the more stringent requirement that it is not ill-conditioned"
   ]
  },
  {
   "cell_type": "markdown",
   "metadata": {
    "collapsed": true
   },
   "source": [
    "- Ideally, an interpolation scheme should also satisfy various conditions\n",
    "  - It should be theoretically possible to achieve an arbitrarily accurate approximation by increasing the number of basis functions and\n",
    "interpolation nodes\n",
    "  - It should be possible to solve the interpolation equation quickly and accurately\n",
    "  - It should be relatively inexpensive to evaluate, differentiate, integrate or otherwise work with the approximation\n",
    "- In what follows, we develop interpolation schemes based on two classes of basis functions\n",
    "  - orthogonal polynomials\n",
    "  - piecewise polynomial splines"
   ]
  },
  {
   "cell_type": "markdown",
   "metadata": {
    "collapsed": true
   },
   "source": [
    "---"
   ]
  },
  {
   "cell_type": "markdown",
   "metadata": {},
   "source": [
    "## 6.2 Polynomial Interpolation\n",
    "\n",
    "\n",
    "Polynomial interpolation is motivated by the\n",
    "Weierstrass theorem which asserts that any\n",
    "continuous real-valued function can be\n",
    "approximated over a bounded interval to an\n",
    "arbitrary degree of accuracy by a polynomial\n",
    "\n"
   ]
  },
  {
   "cell_type": "markdown",
   "metadata": {},
   "source": [
    "According to the Weierstrass Theorem, any continuous real-valued function f defined\n",
    "on a bounded interval $[a; b]$ of the real line can be approximated to any degree of accuracy\n",
    "using a polynomial. More specifically, for any $\\epsilon > 0$, there exists a polynomial\n",
    "$p$ such that\n",
    "\n"
   ]
  },
  {
   "cell_type": "markdown",
   "metadata": {},
   "source": [
    "The Weierstrass theorem provides strong motivation for using polynomials to approximate\n",
    "continuous functions. The theorem, however, is not very practical. It gives no\n",
    "guidance on how to find a good polynomial approximant. It does not even state what\n",
    "order polynomial is required to achieve the required level of accuracy."
   ]
  },
  {
   "cell_type": "markdown",
   "metadata": {},
   "source": [
    "#### Naïve Polynomial Interpolation"
   ]
  },
  {
   "cell_type": "markdown",
   "metadata": {},
   "source": [
    "One apparently reasonable way to construct a $n^{th}$-degree polynomial approximant for a function $f$ is to form the unique $(n - 1)^{th}$-order polynomial\n",
    "\n",
    "$$\\hat f(x)  \\equiv \\sum_{j=1}^n c_j x^j,$$\n",
    "\n",
    "in terms of the monomial basis functions $1, x, x^2,… , x^n$\n",
    "\n",
    "then fix the $n + 1$ unknown basis coefficients $c_1, c_2,...,c_n$  by requiring $\\hat f(x)$ to agree with $f(x)$ at the $n+ 1$ equally-spaced interpolation nodes $x_i = a + ih$, where $h = (b - a)/n$"
   ]
  },
  {
   "cell_type": "code",
   "execution_count": null,
   "metadata": {
    "collapsed": true
   },
   "outputs": [],
   "source": []
  },
  {
   "cell_type": "markdown",
   "metadata": {},
   "source": [
    "In practice, however, polynomial interpolation at evenly spaced nodes often does not\n",
    "produce an accurate approximant. In fact, there are well-behaved functions for which\n",
    "polynomial approximants with evenly spaced nodes rapidly deteriorate, rather than\n",
    "improve, as the degree of approximation n rises.\n",
    "\n",
    "\n",
    "Numerical analysis theory and empirical experience both suggest that polynomial\n",
    "approximants over a bounded interval $[a; b]$ should be constructed by interpolating\n",
    "the underlying function at the so-called *Chebychev nodes*:"
   ]
  },
  {
   "cell_type": "code",
   "execution_count": null,
   "metadata": {
    "collapsed": true
   },
   "outputs": [],
   "source": []
  },
  {
   "cell_type": "code",
   "execution_count": null,
   "metadata": {
    "collapsed": true
   },
   "outputs": [],
   "source": []
  },
  {
   "cell_type": "markdown",
   "metadata": {},
   "source": [
    "## 6.3 Piecewise Polynomial Splines\n",
    "Piecewise polynomial splines, or simply splines for short, are a rich, \n",
    "exible class\n",
    "of functions that may be used instead of high degree polynomials to approximate a\n",
    "real-valued function over a bounded interval. Generally, an order $k$ spline consists of\n",
    "series of kth order polynomial segments spliced together so as to preserve continuity of\n",
    "derivatives of order $k-1$ or less. The points at which the polynomial pieces are spliced\n",
    "together, $ v_1 < v_2 < ... < v_p$, are called the breakpoints of the spline. By convention,\n",
    "the first and last breakpoints are the endpoints of the interval of approximation $[a; b]$."
   ]
  },
  {
   "cell_type": "code",
   "execution_count": null,
   "metadata": {
    "collapsed": true
   },
   "outputs": [],
   "source": []
  },
  {
   "cell_type": "code",
   "execution_count": null,
   "metadata": {
    "collapsed": true
   },
   "outputs": [],
   "source": []
  },
  {
   "cell_type": "code",
   "execution_count": null,
   "metadata": {
    "collapsed": true
   },
   "outputs": [],
   "source": []
  },
  {
   "cell_type": "markdown",
   "metadata": {},
   "source": [
    "## 6.4 Piecewise-Linear Basis Functions\n",
    "Despite their simplicity, linear splines have many virtues. For problems in which\n",
    "the function being approximated is not-smooth and may even exhibit discontinuities,\n",
    "linear splines can still provide reasonable approximations. Unfortunately, derivatives\n",
    "of linear splines are discontinuous, piecewise constant functions."
   ]
  },
  {
   "cell_type": "code",
   "execution_count": null,
   "metadata": {
    "collapsed": true
   },
   "outputs": [],
   "source": []
  },
  {
   "cell_type": "code",
   "execution_count": null,
   "metadata": {
    "collapsed": true
   },
   "outputs": [],
   "source": []
  },
  {
   "cell_type": "markdown",
   "metadata": {},
   "source": [
    "## 6.5 Multidimensional Interpolation\n",
    "The univariate interpolation methods discussed in the preceding sections may be extended\n",
    "in a natural way to multivariate functions through the use of tensor products."
   ]
  },
  {
   "cell_type": "code",
   "execution_count": null,
   "metadata": {
    "collapsed": true
   },
   "outputs": [],
   "source": []
  },
  {
   "cell_type": "code",
   "execution_count": null,
   "metadata": {
    "collapsed": true
   },
   "outputs": [],
   "source": []
  },
  {
   "cell_type": "markdown",
   "metadata": {},
   "source": [
    "## 6.6 Choosing an Approximation Method\n",
    "The most significant difference between spline and polynomial interpolation methods\n",
    "is that spline basis functions have narrow supports, but polynomial basis functions\n",
    "have supports that cover the entire interpolation interval. This can lead to big differences\n",
    "in the quality of approximation when the function being approximated is\n",
    "irregular. Discontinuities in the first or second derivatives can create problems for all\n",
    "interpolation schemes. However, spline functions, due to their narrow support, can\n",
    "often contain the effects of such discontinuities. Polynomial approximants, on the\n",
    "other hand, allow the ill effects of discontinuities to propagate over the entire interval\n",
    "of interpolation. Thus, when a function exhibits kinks, spline interpolation may be\n",
    "preferable to polynomial interpolation."
   ]
  },
  {
   "cell_type": "code",
   "execution_count": null,
   "metadata": {
    "collapsed": true
   },
   "outputs": [],
   "source": []
  },
  {
   "cell_type": "code",
   "execution_count": null,
   "metadata": {
    "collapsed": true
   },
   "outputs": [],
   "source": []
  },
  {
   "cell_type": "code",
   "execution_count": null,
   "metadata": {
    "collapsed": true
   },
   "outputs": [],
   "source": []
  },
  {
   "cell_type": "code",
   "execution_count": null,
   "metadata": {
    "collapsed": true
   },
   "outputs": [],
   "source": []
  },
  {
   "cell_type": "markdown",
   "metadata": {},
   "source": [
    "## 6.7 An Approximation Toolkit\n",
    "Implementing routines for multivariate function approximation involves a number of\n",
    "bookkeeping details that are tedious at best. In this section we describe a set of\n",
    "numerical tools that take much of the pain out of this process. This toolbox contains\n",
    "several high-level functions that use a structured variable to store the essential information\n",
    "that defines the function space from which approximants are drawn. The\n",
    "toolbox also contains a set of middle-level routines that define the basis functions for\n",
    "Chebychev polynomials and for splines and a set of low-level utilities to handle basic\n",
    "computations, including tensor product manipulations.\n",
    "\n",
    "\n",
    "The six high-level procedures, all prefaced by FUN, are FUNDEFN, FUNFITF, FUNFITXY,\n",
    "FUNEVAL, FUNNODE, and FUNBAS.\n",
    "\n"
   ]
  },
  {
   "cell_type": "code",
   "execution_count": null,
   "metadata": {
    "collapsed": true
   },
   "outputs": [],
   "source": []
  },
  {
   "cell_type": "code",
   "execution_count": null,
   "metadata": {
    "collapsed": true
   },
   "outputs": [],
   "source": []
  },
  {
   "cell_type": "markdown",
   "metadata": {},
   "source": [
    "## 6.8 The Collocation Method\n",
    "In this section we introduce the *collocation method*, a straightforward generalization of the\n",
    "function approximation methods covered earlier in this chapter that can be used to solve\n",
    "a wide variety of functional equations, including the functional equations that arise with\n",
    "dynamic economic models in discrete and continuous time.\n",
    "\n",
    "\n",
    "\n",
    "\n"
   ]
  },
  {
   "cell_type": "code",
   "execution_count": null,
   "metadata": {
    "collapsed": true
   },
   "outputs": [],
   "source": []
  },
  {
   "cell_type": "code",
   "execution_count": null,
   "metadata": {
    "collapsed": true
   },
   "outputs": [],
   "source": []
  },
  {
   "cell_type": "code",
   "execution_count": null,
   "metadata": {
    "collapsed": true
   },
   "outputs": [],
   "source": []
  },
  {
   "cell_type": "markdown",
   "metadata": {},
   "source": [
    "## 6.9 Boundary Value Problems\n",
    "In the boundary value problem, or BVP for short, one seeks a solution function $x(t) : [0; T] \\rightarrow\n",
    "R^d$ that satisfies the differential equation"
   ]
  },
  {
   "cell_type": "code",
   "execution_count": null,
   "metadata": {
    "collapsed": true
   },
   "outputs": [],
   "source": []
  },
  {
   "cell_type": "code",
   "execution_count": null,
   "metadata": {
    "collapsed": true
   },
   "outputs": [],
   "source": []
  },
  {
   "cell_type": "code",
   "execution_count": null,
   "metadata": {
    "collapsed": true
   },
   "outputs": [],
   "source": []
  }
 ],
 "metadata": {
  "kernelspec": {
   "display_name": "Python 3",
   "language": "python",
   "name": "python3"
  },
  "language_info": {
   "codemirror_mode": {
    "name": "ipython",
    "version": 3
   },
   "file_extension": ".py",
   "mimetype": "text/x-python",
   "name": "python",
   "nbconvert_exporter": "python",
   "pygments_lexer": "ipython3",
   "version": "3.5.2"
  }
 },
 "nbformat": 4,
 "nbformat_minor": 1
}
